{
 "cells": [
  {
   "cell_type": "code",
   "execution_count": 4,
   "metadata": {},
   "outputs": [],
   "source": [
    "import MFCC"
   ]
  },
  {
   "cell_type": "code",
   "execution_count": 5,
   "metadata": {},
   "outputs": [],
   "source": [
    "import smacpy"
   ]
  },
  {
   "cell_type": "code",
   "execution_count": 7,
   "metadata": {},
   "outputs": [
    {
     "name": "stdout",
     "output_type": "stream",
     "text": [
      "Updating parameters and recalculating filters: \n",
      "('Nyquist: ', 22050.0)\n",
      "minHz:0\n",
      "maxHz:22050.0\n",
      "minMel:0.0\n",
      "maxMel:3923.3940652407423\n",
      "\n",
      "Reading wavs/train/6 by 1_20_13.wav\n"
     ]
    },
    {
     "ename": "ValueError",
     "evalue": "path wavs/train/6 by 1_20_13.wav not found",
     "output_type": "error",
     "traceback": [
      "\u001b[0;31m---------------------------------------------------------------------------\u001b[0m",
      "\u001b[0;31mValueError\u001b[0m                                Traceback (most recent call last)",
      "\u001b[0;32m<ipython-input-7-c7797b897100>\u001b[0m in \u001b[0;36m<module>\u001b[0;34m()\u001b[0m\n\u001b[1;32m     37\u001b[0m                                  \u001b[0;34m'6 by 1_20_11.wav'\u001b[0m\u001b[0;34m:\u001b[0m\u001b[0;34m'20percent'\u001b[0m\u001b[0;34m,\u001b[0m \u001b[0;34m'6 by 1_20_12.wav'\u001b[0m\u001b[0;34m:\u001b[0m\u001b[0;34m'20percent'\u001b[0m\u001b[0;34m,\u001b[0m \u001b[0;34m'6 by 1_20_13.wav'\u001b[0m\u001b[0;34m:\u001b[0m\u001b[0;34m'20percent'\u001b[0m\u001b[0;34m,\u001b[0m\u001b[0;34m\u001b[0m\u001b[0m\n\u001b[1;32m     38\u001b[0m                                  \u001b[0;34m'6 by 1_20_14.wav'\u001b[0m\u001b[0;34m:\u001b[0m\u001b[0;34m'20percent'\u001b[0m\u001b[0;34m,\u001b[0m \u001b[0;34m'6 by 1_20_15.wav'\u001b[0m\u001b[0;34m:\u001b[0m\u001b[0;34m'20percent'\u001b[0m\u001b[0;34m,\u001b[0m \u001b[0;34m'6 by 1_20_16.wav'\u001b[0m\u001b[0;34m:\u001b[0m\u001b[0;34m'20percent'\u001b[0m\u001b[0;34m,\u001b[0m\u001b[0;34m\u001b[0m\u001b[0m\n\u001b[0;32m---> 39\u001b[0;31m                                  '6 by 1_20_17.wav':'20percent', '6 by 1_20_18.wav':'20percent', '6 by 1_20_19.wav':'20percent' })\n\u001b[0m\u001b[1;32m     40\u001b[0m \u001b[0;34m\u001b[0m\u001b[0m\n\u001b[1;32m     41\u001b[0m \u001b[0;31m#model.classify('wavs/testing/16 percent.wav')\u001b[0m\u001b[0;34m\u001b[0m\u001b[0;34m\u001b[0m\u001b[0m\n",
      "\u001b[0;32m/home/rutherford/Github/Audilab_Project/1.Wood_Moisture_Content/moisture.pyc\u001b[0m in \u001b[0;36m__init__\u001b[0;34m(self, wavfolder, trainingdata)\u001b[0m\n\u001b[1;32m     53\u001b[0m                 \u001b[0mself\u001b[0m\u001b[0;34m.\u001b[0m\u001b[0mmfccMaker\u001b[0m\u001b[0;34m.\u001b[0m\u001b[0mupdate\u001b[0m\u001b[0;34m(\u001b[0m\u001b[0;34m)\u001b[0m\u001b[0;34m\u001b[0m\u001b[0m\n\u001b[1;32m     54\u001b[0m \u001b[0;34m\u001b[0m\u001b[0m\n\u001b[0;32m---> 55\u001b[0;31m                 \u001b[0mallfeatures\u001b[0m \u001b[0;34m=\u001b[0m \u001b[0;34m{\u001b[0m\u001b[0mwavpath\u001b[0m\u001b[0;34m:\u001b[0m\u001b[0mself\u001b[0m\u001b[0;34m.\u001b[0m\u001b[0mfile_to_features\u001b[0m\u001b[0;34m(\u001b[0m\u001b[0mos\u001b[0m\u001b[0;34m.\u001b[0m\u001b[0mpath\u001b[0m\u001b[0;34m.\u001b[0m\u001b[0mjoin\u001b[0m\u001b[0;34m(\u001b[0m\u001b[0mwavfolder\u001b[0m\u001b[0;34m,\u001b[0m \u001b[0mwavpath\u001b[0m\u001b[0;34m)\u001b[0m\u001b[0;34m)\u001b[0m \u001b[0;32mfor\u001b[0m \u001b[0mwavpath\u001b[0m \u001b[0;32min\u001b[0m \u001b[0mtrainingdata\u001b[0m\u001b[0;34m}\u001b[0m\u001b[0;34m\u001b[0m\u001b[0m\n\u001b[0m\u001b[1;32m     56\u001b[0m \u001b[0;34m\u001b[0m\u001b[0m\n\u001b[1;32m     57\u001b[0m                 \u001b[0;31m# Determine the normalisation stats, and remember them\u001b[0m\u001b[0;34m\u001b[0m\u001b[0;34m\u001b[0m\u001b[0m\n",
      "\u001b[0;32m/home/rutherford/Github/Audilab_Project/1.Wood_Moisture_Content/moisture.pyc\u001b[0m in \u001b[0;36m<dictcomp>\u001b[0;34m((wavpath,))\u001b[0m\n\u001b[1;32m     53\u001b[0m                 \u001b[0mself\u001b[0m\u001b[0;34m.\u001b[0m\u001b[0mmfccMaker\u001b[0m\u001b[0;34m.\u001b[0m\u001b[0mupdate\u001b[0m\u001b[0;34m(\u001b[0m\u001b[0;34m)\u001b[0m\u001b[0;34m\u001b[0m\u001b[0m\n\u001b[1;32m     54\u001b[0m \u001b[0;34m\u001b[0m\u001b[0m\n\u001b[0;32m---> 55\u001b[0;31m                 \u001b[0mallfeatures\u001b[0m \u001b[0;34m=\u001b[0m \u001b[0;34m{\u001b[0m\u001b[0mwavpath\u001b[0m\u001b[0;34m:\u001b[0m\u001b[0mself\u001b[0m\u001b[0;34m.\u001b[0m\u001b[0mfile_to_features\u001b[0m\u001b[0;34m(\u001b[0m\u001b[0mos\u001b[0m\u001b[0;34m.\u001b[0m\u001b[0mpath\u001b[0m\u001b[0;34m.\u001b[0m\u001b[0mjoin\u001b[0m\u001b[0;34m(\u001b[0m\u001b[0mwavfolder\u001b[0m\u001b[0;34m,\u001b[0m \u001b[0mwavpath\u001b[0m\u001b[0;34m)\u001b[0m\u001b[0;34m)\u001b[0m \u001b[0;32mfor\u001b[0m \u001b[0mwavpath\u001b[0m \u001b[0;32min\u001b[0m \u001b[0mtrainingdata\u001b[0m\u001b[0;34m}\u001b[0m\u001b[0;34m\u001b[0m\u001b[0m\n\u001b[0m\u001b[1;32m     56\u001b[0m \u001b[0;34m\u001b[0m\u001b[0m\n\u001b[1;32m     57\u001b[0m                 \u001b[0;31m# Determine the normalisation stats, and remember them\u001b[0m\u001b[0;34m\u001b[0m\u001b[0;34m\u001b[0m\u001b[0m\n",
      "\u001b[0;32m/home/rutherford/Github/Audilab_Project/1.Wood_Moisture_Content/moisture.pyc\u001b[0m in \u001b[0;36mfile_to_features\u001b[0;34m(self, wavpath)\u001b[0m\n\u001b[1;32m    104\u001b[0m                 \u001b[0;34m\"Reads through a mono WAV file, converting each frame to the required features. Returns a 2D array.\"\u001b[0m\u001b[0;34m\u001b[0m\u001b[0m\n\u001b[1;32m    105\u001b[0m                 \u001b[0;32mif\u001b[0m \u001b[0mverbose\u001b[0m\u001b[0;34m:\u001b[0m \u001b[0;32mprint\u001b[0m\u001b[0;34m(\u001b[0m\u001b[0;34m\"Reading %s\"\u001b[0m \u001b[0;34m%\u001b[0m \u001b[0mwavpath\u001b[0m\u001b[0;34m)\u001b[0m\u001b[0;34m\u001b[0m\u001b[0m\n\u001b[0;32m--> 106\u001b[0;31m                 \u001b[0;32mif\u001b[0m \u001b[0;32mnot\u001b[0m \u001b[0mos\u001b[0m\u001b[0;34m.\u001b[0m\u001b[0mpath\u001b[0m\u001b[0;34m.\u001b[0m\u001b[0misfile\u001b[0m\u001b[0;34m(\u001b[0m\u001b[0mwavpath\u001b[0m\u001b[0;34m)\u001b[0m\u001b[0;34m:\u001b[0m \u001b[0;32mraise\u001b[0m \u001b[0mValueError\u001b[0m\u001b[0;34m(\u001b[0m\u001b[0;34m\"path %s not found\"\u001b[0m \u001b[0;34m%\u001b[0m \u001b[0mwavpath\u001b[0m\u001b[0;34m)\u001b[0m\u001b[0;34m\u001b[0m\u001b[0m\n\u001b[0m\u001b[1;32m    107\u001b[0m                 \u001b[0msf\u001b[0m \u001b[0;34m=\u001b[0m \u001b[0mSndfile\u001b[0m\u001b[0;34m(\u001b[0m\u001b[0mwavpath\u001b[0m\u001b[0;34m,\u001b[0m \u001b[0;34m\"r\"\u001b[0m\u001b[0;34m)\u001b[0m\u001b[0;34m\u001b[0m\u001b[0m\n\u001b[1;32m    108\u001b[0m                 \u001b[0;31m#if (sf.channels != 1) and verbose: print(\" Sound file has multiple channels (%i) - channels will be mixed to mono.\" % sf.channels)\u001b[0m\u001b[0;34m\u001b[0m\u001b[0;34m\u001b[0m\u001b[0m\n",
      "\u001b[0;31mValueError\u001b[0m: path wavs/train/6 by 1_20_13.wav not found"
     ]
    }
   ],
   "source": [
    "from sklearn.externals import joblib\n",
    "import numpy as np\n",
    "import pickle as serializer\n",
    "from moisture import Moisture\n",
    "\n",
    "\n",
    "model = Moisture(\"wavs/training\", {'6 by 1_14_1.wav':'14percent', '6 by 1_14_2.wav':'14percent', '6 by 1_14_3.wav':'14percent',\n",
    "                                 '6 by 1_14_4.wav':'14percent', '6 by 1_14_5.wav':'14percent', '6 by 1_14_6.wav':'14percent',\n",
    "                                 '6 by 1_14_7.wav':'14percent', '6 by 1_14_8.wav':'14percent', '6 by 1_14_9.wav':'14percent',\n",
    "                                 '6 by 1_14_10.wav':'14percent', '6 by 1_14_11.wav':'14percent', '6 by 1_14_12.wav':'14percent',\n",
    "                                 '6 by 1_14_13.wav':'14percent', '6 by 1_14_14.wav':'14percent', '6 by 1_14_15.wav':'14percent',\n",
    "                                 '6 by 1_14_16.wav':'14percent', '6 by 1_14_17.wav':'14percent', '6 by 1_14_18.wav':'14percent',\n",
    "                                 '6 by 1_14_19.wav':'14percent', '6 by 1_14_20.wav':'14percent', '6 by 1_16_1.wav':'16percent',\n",
    "                                 '6 by 1_16_2.wav':'16percent', '6 by 1_16_3.wav':'16percent', '6 by 1_16_4.wav':'16percent',\n",
    "                                 '6 by 1_16_5.wav':'16percent', '6 by 1_16_6.wav':'16percent', '6 by 1_16_7.wav':'16percent',\n",
    "                                 '6 by 1_16_8.wav':'16percent', '6 by 1_16_9.wav':'16percent', '6 by 1_16_10.wav':'16percent',\n",
    "                                 '6 by 1_14_11.wav':'16percent', '6 by 1_16_12.wav':'16percent' ,'6 by 1_16_13.wav':'16percent',\n",
    "                                 '6 by 1_16_14.wav':'16percent', '6 by 1_16_15.wav':'16percent' ,'6 by 1_16_16.wav':'16percent',\n",
    "                                 '6 by 1_16_17.wav':'16percent', '6 by 1_16_18.wav':'16percent' ,'6 by 1_16_19.wav':'16percent',\n",
    "                                 '6 by 1_16_20.wav':'16percent', '6 by 1_17_1.wav':'17percent' ,'6 by 1_17_2.wav':'17percent',\n",
    "                                 '6 by 1_17_3.wav':'17percent', '6 by 1_17_4.wav':'17percent' ,'6 by 1_17_5.wav':'17percent',\n",
    "                                 '6 by 1_17_6.wav':'17percent', '6 by 1_17_7.wav':'17percent' ,'6 by 1_17_8.wav':'17percent',\n",
    "                                 '6 by 1_17_9.wav':'17percent', '6 by 1_17_10.wav':'17percent' ,'6 by 1_17_11.wav':'17percent',\n",
    "                                 '6 by 1_17_12.wav':'17percent', '6 by 1_17_13.wav':'17percent' ,'6 by 1_17_14.wav':'17percent',\n",
    "                                 '6 by 1_17_15.wav':'17percent', '6 by 1_17_16.wav':'17percent' ,'6 by 1_17_17.wav':'17percent',\n",
    "                                 '6 by 1_17_18.wav':'17percent', '6 by 1_17_19.wav':'17percent' ,'6 by 1_17_20.wav':'17percent',\n",
    "                                 '6 by 1_19_1.wav':'19percent', '6 by 1_19_2.wav':'19percent' ,'6 by 1_19_3.wav':'19percent',\n",
    "                                 '6 by 1_19_4.wav':'19percent', '6 by 1_19_5.wav':'19percent' ,'6 by 1_19_6.wav':'19percent',\n",
    "                                 '6 by 1_19_7.wav':'19percent', '6 by 1_19_8.wav':'19percent' ,'6 by 1_19_9.wav':'19percent',\n",
    "                                 '6 by 1_19_10.wav':'19percent', '6 by 1_19_11.wav':'19percent' ,'6 by 1_19_12.wav':'19percent',\n",
    "                                 '6 by 1_19_13.wav':'19percent', '6 by 1_19_14.wav':'19percent' ,'6 by 1_19_15.wav':'19percent',\n",
    "                                 '6 by 1_19_16.wav':'19percent', '6 by 1_19_17.wav':'19percent' ,'6 by 1_19_18.wav':'19percent',\n",
    "                                 '6 by 1_19_19.wav':'19percent', '6 by 1_19_20.wav':'19percent' ,'6 by 1_20_1.wav':'20percent',\n",
    "                                 '6 by 1_20_2.wav':'20percent', '6 by 1_20_3.wav':'20percent' ,'6 by 1_20_4.wav':'20percent',\n",
    "                                 '6 by 1_20_5.wav':'20percent', '6 by 1_20_6.wav':'20percent' ,'6 by 1_20_7.wav':'20percent',\n",
    "                                 '6 by 1_20_8.wav':'20percent', '6 by 1_20_9.wav':'20percent' ,'6 by 1_20_10.wav':'20percent',\n",
    "                                 '6 by 1_20_11.wav':'20percent', '6 by 1_20_12.wav':'20percent', '6 by 1_20_13.wav':'20percent',\n",
    "                                 '6 by 1_20_14.wav':'20percent', '6 by 1_20_15.wav':'20percent', '6 by 1_20_16.wav':'20percent', \n",
    "                                 '6 by 1_20_17.wav':'20percent', '6 by 1_20_18.wav':'20percent', '6 by 1_20_19.wav':'20percent' })\n",
    "\n",
    "#model.classify('wavs/testing/16 percent.wav')\n",
    "print (model.classify('wavs/testing/16 per.wav'))\n"
   ]
  },
  {
   "cell_type": "code",
   "execution_count": null,
   "metadata": {},
   "outputs": [],
   "source": []
  }
 ],
 "metadata": {
  "kernelspec": {
   "display_name": "Python (other-env)",
   "language": "python",
   "name": "other-env"
  },
  "language_info": {
   "codemirror_mode": {
    "name": "ipython",
    "version": 2
   },
   "file_extension": ".py",
   "mimetype": "text/x-python",
   "name": "python",
   "nbconvert_exporter": "python",
   "pygments_lexer": "ipython2",
   "version": "2.7.15rc1"
  }
 },
 "nbformat": 4,
 "nbformat_minor": 2
}
