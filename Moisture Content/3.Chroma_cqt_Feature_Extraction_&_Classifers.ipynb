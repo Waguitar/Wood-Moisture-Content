{
 "cells": [
  {
   "cell_type": "code",
   "execution_count": 1,
   "metadata": {},
   "outputs": [],
   "source": [
    "%matplotlib inline\n",
    "import numpy\n",
    "import scipy\n",
    "import sklearn\n",
    "from pathlib import Path\n",
    "import IPython.display as ipd\n",
    "import matplotlib.pyplot as plt \n",
    "import librosa, librosa.display"
   ]
  },
  {
   "cell_type": "markdown",
   "metadata": {},
   "source": [
    "# Basic Feature Extraction"
   ]
  },
  {
   "cell_type": "markdown",
   "metadata": {},
   "source": [
    "Somehow, we must extract the characteristics of our audio signal that are most relevant to the problem we are trying to solve. For example, if we want to classify instruments by timbre, we will want features that distinguish sounds by their timbre and not their pitch. If we want to perform pitch detection, we want features that distinguish pitch and not timbre.\n",
    "\n",
    "This process is known as feature extraction."
   ]
  },
  {
   "cell_type": "markdown",
   "metadata": {},
   "source": [
    "Let's begin with twenty audio files: ten kick drum samples, and ten snare drum samples. Each audio file contains one drum hit."
   ]
  },
  {
   "cell_type": "markdown",
   "metadata": {},
   "source": [
    "Read and Store Train Data:"
   ]
  },
  {
   "cell_type": "code",
   "execution_count": 2,
   "metadata": {},
   "outputs": [],
   "source": [
    "Moisture_14_percent = [\n",
    "    librosa.load(p)[0] for p in Path().glob('wav/train/6 by 1_14_*.wav')\n",
    "]\n",
    "Moisture_16_percent = [\n",
    "    librosa.load(p)[0] for p in Path().glob('wav/train/6 by 1_16_*.wav')\n",
    "]\n",
    "Moisture_17_percent = [\n",
    "    librosa.load(p)[0] for p in Path().glob('wav/train/6 by 1_17_*.wav')\n",
    "]\n",
    "\n",
    "Moisture_19_percent = [\n",
    "    librosa.load(p)[0] for p in Path().glob('wav/train/6 by 1_19_*.wav')\n",
    "]\n",
    "\n",
    "Moisture_20_percent = [\n",
    "    librosa.load(p)[0] for p in Path().glob('wav/train/6 by 1_20_*.wav')\n",
    "]"
   ]
  },
  {
   "cell_type": "markdown",
   "metadata": {},
   "source": [
    "Read and Load Test Data"
   ]
  },
  {
   "cell_type": "code",
   "execution_count": 3,
   "metadata": {},
   "outputs": [],
   "source": [
    "Moisture_14_percent_test = [\n",
    "    librosa.load(p)[0] for p in Path().glob('wav/test/6 by 1_14_*.wav')\n",
    "]\n",
    "Moisture_16_percent_test = [\n",
    "    librosa.load(p)[0] for p in Path().glob('wav/test/6 by 1_16_*.wav')\n",
    "]\n",
    "Moisture_17_percent_test = [\n",
    "    librosa.load(p)[0] for p in Path().glob('wav/test/6 by 1_17_*.wav')\n",
    "]\n",
    "\n",
    "Moisture_19_percent_test = [\n",
    "    librosa.load(p)[0] for p in Path().glob('wav/test/6 by 1_19_*.wav')\n",
    "]\n",
    "\n",
    "Moisture_20_percent_test = [\n",
    "    librosa.load(p)[0] for p in Path().glob('wav/test/6 by 1_20_*.wav')\n",
    "]"
   ]
  },
  {
   "cell_type": "code",
   "execution_count": 4,
   "metadata": {},
   "outputs": [
    {
     "data": {
      "text/plain": [
       "20"
      ]
     },
     "execution_count": 4,
     "metadata": {},
     "output_type": "execute_result"
    }
   ],
   "source": [
    "len(Moisture_14_percent)"
   ]
  },
  {
   "cell_type": "code",
   "execution_count": 5,
   "metadata": {},
   "outputs": [
    {
     "data": {
      "text/plain": [
       "5"
      ]
     },
     "execution_count": 5,
     "metadata": {},
     "output_type": "execute_result"
    }
   ],
   "source": [
    "len(Moisture_14_percent_test)"
   ]
  },
  {
   "cell_type": "code",
   "execution_count": 6,
   "metadata": {},
   "outputs": [
    {
     "data": {
      "text/plain": [
       "20"
      ]
     },
     "execution_count": 6,
     "metadata": {},
     "output_type": "execute_result"
    }
   ],
   "source": [
    "len(Moisture_16_percent)"
   ]
  },
  {
   "cell_type": "code",
   "execution_count": 7,
   "metadata": {},
   "outputs": [
    {
     "data": {
      "text/plain": [
       "5"
      ]
     },
     "execution_count": 7,
     "metadata": {},
     "output_type": "execute_result"
    }
   ],
   "source": [
    "len(Moisture_16_percent_test)"
   ]
  },
  {
   "cell_type": "code",
   "execution_count": 8,
   "metadata": {},
   "outputs": [
    {
     "data": {
      "text/plain": [
       "20"
      ]
     },
     "execution_count": 8,
     "metadata": {},
     "output_type": "execute_result"
    }
   ],
   "source": [
    "len(Moisture_17_percent)"
   ]
  },
  {
   "cell_type": "code",
   "execution_count": 9,
   "metadata": {},
   "outputs": [
    {
     "data": {
      "text/plain": [
       "5"
      ]
     },
     "execution_count": 9,
     "metadata": {},
     "output_type": "execute_result"
    }
   ],
   "source": [
    "len(Moisture_17_percent_test)"
   ]
  },
  {
   "cell_type": "code",
   "execution_count": 10,
   "metadata": {},
   "outputs": [
    {
     "data": {
      "text/plain": [
       "20"
      ]
     },
     "execution_count": 10,
     "metadata": {},
     "output_type": "execute_result"
    }
   ],
   "source": [
    "len(Moisture_19_percent)"
   ]
  },
  {
   "cell_type": "code",
   "execution_count": 11,
   "metadata": {},
   "outputs": [
    {
     "data": {
      "text/plain": [
       "5"
      ]
     },
     "execution_count": 11,
     "metadata": {},
     "output_type": "execute_result"
    }
   ],
   "source": [
    "len(Moisture_19_percent_test)"
   ]
  },
  {
   "cell_type": "code",
   "execution_count": 12,
   "metadata": {},
   "outputs": [
    {
     "data": {
      "text/plain": [
       "20"
      ]
     },
     "execution_count": 12,
     "metadata": {},
     "output_type": "execute_result"
    }
   ],
   "source": [
    "len(Moisture_20_percent)"
   ]
  },
  {
   "cell_type": "code",
   "execution_count": 13,
   "metadata": {},
   "outputs": [
    {
     "data": {
      "text/plain": [
       "5"
      ]
     },
     "execution_count": 13,
     "metadata": {},
     "output_type": "execute_result"
    }
   ],
   "source": [
    "len(Moisture_20_percent_test)"
   ]
  },
  {
   "cell_type": "markdown",
   "metadata": {
    "collapsed": true
   },
   "source": [
    "## Constructing a Feature Vector"
   ]
  },
  {
   "cell_type": "markdown",
   "metadata": {},
   "source": [
    "A *feature vector* is simply a collection of features. Here is a simple function that constructs a two-dimensional feature vector from a signal:"
   ]
  },
  {
   "cell_type": "code",
   "execution_count": 14,
   "metadata": {},
   "outputs": [],
   "source": [
    "def extract_features(signal):\n",
    "    return [\n",
    "        librosa.feature.chroma_cqt(signal)[0, 0],\n",
    "        librosa.feature.chroma_cqt(signal)[0, 0],\n",
    "    ]"
   ]
  },
  {
   "cell_type": "markdown",
   "metadata": {},
   "source": [
    "If we want to aggregate all of the feature vectors among signals in a collection, we can use a list comprehension as follows:"
   ]
  },
  {
   "cell_type": "code",
   "execution_count": 15,
   "metadata": {},
   "outputs": [
    {
     "name": "stderr",
     "output_type": "stream",
     "text": [
      "/home/rutherford/.local/lib/python3.6/site-packages/librosa/util/utils.py:826: FutureWarning: Using a non-tuple sequence for multidimensional indexing is deprecated; use `arr[tuple(seq)]` instead of `arr[seq]`. In the future this will be interpreted as an array index, `arr[np.array(seq)]`, which will result either in an error or a different result.\n",
      "  return (x > x_pad[inds1]) & (x >= x_pad[inds2])\n"
     ]
    }
   ],
   "source": [
    "Moisture_14_percent_features = numpy.array([extract_features(x) for x in Moisture_14_percent])\n",
    "Moisture_16_percent_features = numpy.array([extract_features(x) for x in Moisture_16_percent])\n",
    "Moisture_17_percent_features = numpy.array([extract_features(x) for x in Moisture_17_percent])\n",
    "Moisture_19_percent_features = numpy.array([extract_features(x) for x in Moisture_19_percent])\n",
    "Moisture_20_percent_features = numpy.array([extract_features(x) for x in Moisture_20_percent])"
   ]
  },
  {
   "cell_type": "code",
   "execution_count": 16,
   "metadata": {},
   "outputs": [
    {
     "name": "stderr",
     "output_type": "stream",
     "text": [
      "/home/rutherford/.local/lib/python3.6/site-packages/librosa/util/utils.py:826: FutureWarning: Using a non-tuple sequence for multidimensional indexing is deprecated; use `arr[tuple(seq)]` instead of `arr[seq]`. In the future this will be interpreted as an array index, `arr[np.array(seq)]`, which will result either in an error or a different result.\n",
      "  return (x > x_pad[inds1]) & (x >= x_pad[inds2])\n"
     ]
    }
   ],
   "source": [
    "Moisture_14_percent_features_test = numpy.array([extract_features(x) for x in Moisture_14_percent_test])\n",
    "Moisture_16_percent_features_test = numpy.array([extract_features(x) for x in Moisture_16_percent_test])\n",
    "Moisture_17_percent_features_test = numpy.array([extract_features(x) for x in Moisture_17_percent_test])\n",
    "Moisture_19_percent_features_test = numpy.array([extract_features(x) for x in Moisture_19_percent_test])\n",
    "Moisture_20_percent_features_test = numpy.array([extract_features(x) for x in Moisture_20_percent_test])"
   ]
  },
  {
   "cell_type": "markdown",
   "metadata": {},
   "source": [
    "## Feature Scaling"
   ]
  },
  {
   "cell_type": "markdown",
   "metadata": {},
   "source": [
    "The features that we used in the previous example included zero crossing rate and spectral centroid. These two features are expressed using different units. This discrepancy can pose problems when performing classification later. Therefore, we will normalize each feature vector to a common range and store the normalization parameters for later use.  \n",
    "\n",
    "Many techniques exist for scaling your features. For now, we'll use [`sklearn.preprocessing.MinMaxScaler`](http://scikit-learn.org/stable/modules/generated/sklearn.preprocessing.MinMaxScaler.html).  `MinMaxScaler` returns an array of scaled values such that each feature dimension is in the range -1 to 1."
   ]
  },
  {
   "cell_type": "markdown",
   "metadata": {},
   "source": [
    "Let's concatenate all of our feature vectors into one *feature table*:"
   ]
  },
  {
   "cell_type": "code",
   "execution_count": 17,
   "metadata": {},
   "outputs": [
    {
     "name": "stdout",
     "output_type": "stream",
     "text": [
      "(100, 2)\n"
     ]
    }
   ],
   "source": [
    "feature_table = numpy.vstack((Moisture_14_percent_features, Moisture_16_percent_features,\n",
    "                              Moisture_17_percent_features, Moisture_19_percent_features,\n",
    "                              Moisture_20_percent_features))\n",
    "print(feature_table.shape)"
   ]
  },
  {
   "cell_type": "code",
   "execution_count": 18,
   "metadata": {},
   "outputs": [
    {
     "name": "stdout",
     "output_type": "stream",
     "text": [
      "(25, 2)\n"
     ]
    }
   ],
   "source": [
    "feature_table_test = numpy.vstack((Moisture_14_percent_features_test, Moisture_16_percent_features_test,\n",
    "                              Moisture_17_percent_features_test, Moisture_19_percent_features_test,\n",
    "                              Moisture_20_percent_features_test))\n",
    "print(feature_table_test.shape)"
   ]
  },
  {
   "cell_type": "markdown",
   "metadata": {},
   "source": [
    "Scale each feature dimension to be in the range -1 to 1:"
   ]
  },
  {
   "cell_type": "code",
   "execution_count": 19,
   "metadata": {},
   "outputs": [
    {
     "name": "stdout",
     "output_type": "stream",
     "text": [
      "[-1. -1.]\n",
      "[1. 1.]\n"
     ]
    }
   ],
   "source": [
    "scaler = sklearn.preprocessing.MinMaxScaler(feature_range=(-1, 1))\n",
    "training_features = scaler.fit_transform(feature_table)\n",
    "print(training_features.min(axis=0))\n",
    "print(training_features.max(axis=0))"
   ]
  },
  {
   "cell_type": "code",
   "execution_count": 20,
   "metadata": {},
   "outputs": [
    {
     "name": "stdout",
     "output_type": "stream",
     "text": [
      "[-1. -1.]\n",
      "[1. 1.]\n"
     ]
    }
   ],
   "source": [
    "scaler = sklearn.preprocessing.MinMaxScaler(feature_range=(-1, 1))\n",
    "testing_features = scaler.fit_transform(feature_table_test)\n",
    "print(testing_features.min(axis=0))\n",
    "print(testing_features.max(axis=0))"
   ]
  },
  {
   "cell_type": "code",
   "execution_count": 21,
   "metadata": {},
   "outputs": [],
   "source": [
    "Moisture_14_percent_labels = numpy.zeros(20)\n",
    "Moisture_16_percent_labels = numpy.zeros(20)\n",
    "Moisture_17_percent_labels = numpy.zeros(20)\n",
    "Moisture_19_percent_labels = numpy.ones(20)\n",
    "Moisture_20_percent_labels = numpy.ones(20)"
   ]
  },
  {
   "cell_type": "code",
   "execution_count": 22,
   "metadata": {},
   "outputs": [],
   "source": [
    "Moisture_14_percent_labels_test = numpy.zeros(5)\n",
    "Moisture_16_percent_labels_test = numpy.zeros(5)\n",
    "Moisture_17_percent_labels_test = numpy.zeros(3)\n",
    "Moisture_19_percent_labels_test = numpy.ones(7)\n",
    "Moisture_20_percent_labels_test = numpy.ones(5)"
   ]
  },
  {
   "cell_type": "code",
   "execution_count": 23,
   "metadata": {},
   "outputs": [],
   "source": [
    "training_labels = numpy.concatenate((Moisture_14_percent_labels, Moisture_16_percent_labels,\n",
    "                                     Moisture_17_percent_labels, Moisture_19_percent_labels,\n",
    "                                     Moisture_20_percent_labels))"
   ]
  },
  {
   "cell_type": "code",
   "execution_count": 24,
   "metadata": {},
   "outputs": [],
   "source": [
    "testing_labels = numpy.concatenate((Moisture_14_percent_labels_test, Moisture_16_percent_labels_test,\n",
    "                                     Moisture_17_percent_labels_test, Moisture_19_percent_labels_test,\n",
    "                                     Moisture_20_percent_labels_test))"
   ]
  },
  {
   "cell_type": "code",
   "execution_count": 25,
   "metadata": {},
   "outputs": [
    {
     "name": "stdout",
     "output_type": "stream",
     "text": [
      "[[-0.89596935 -0.89596935]\n",
      " [ 0.04226653  0.04226653]\n",
      " [ 0.03681252  0.03681252]\n",
      " [-0.03797737 -0.03797737]\n",
      " [-0.15637918 -0.15637918]\n",
      " [ 1.          1.        ]\n",
      " [ 1.          1.        ]\n",
      " [ 1.          1.        ]\n",
      " [-0.25635445 -0.25635445]\n",
      " [-0.94967746 -0.94967746]\n",
      " [ 0.25030369  0.25030369]\n",
      " [-0.24071632 -0.24071632]\n",
      " [-0.10067644 -0.10067644]\n",
      " [-0.13680518 -0.13680518]\n",
      " [ 1.          1.        ]\n",
      " [ 0.43455338  0.43455338]\n",
      " [-0.40727136 -0.40727136]\n",
      " [ 0.03681252  0.03681252]\n",
      " [ 0.60561639  0.60561639]\n",
      " [ 0.02301864  0.02301864]\n",
      " [ 0.20771802  0.20771802]\n",
      " [ 0.97881003  0.97881003]\n",
      " [ 0.39378536  0.39378536]\n",
      " [-0.38757695 -0.38757695]\n",
      " [-1.         -1.        ]\n",
      " [ 0.66790343  0.66790343]\n",
      " [ 0.56702999  0.56702999]\n",
      " [ 0.34239603  0.34239603]\n",
      " [-0.07937015 -0.07937015]\n",
      " [-0.40877611 -0.40877611]\n",
      " [-0.54561061 -0.54561061]\n",
      " [ 0.56333576  0.56333576]\n",
      " [ 1.          1.        ]\n",
      " [-0.20768055 -0.20768055]\n",
      " [ 0.65978118  0.65978118]\n",
      " [ 0.76563697  0.76563697]\n",
      " [ 1.          1.        ]\n",
      " [-0.93244229 -0.93244229]\n",
      " [ 0.99554698  0.99554698]\n",
      " [ 0.63951901  0.63951901]\n",
      " [ 0.27711178  0.27711178]\n",
      " [ 0.59710451  0.59710451]\n",
      " [ 0.29370668  0.29370668]\n",
      " [-0.84438365 -0.84438365]\n",
      " [-0.6653176  -0.6653176 ]\n",
      " [ 0.58037705  0.58037705]\n",
      " [-0.37620625 -0.37620625]\n",
      " [-0.13405764 -0.13405764]\n",
      " [-0.29540729 -0.29540729]\n",
      " [-0.50037559 -0.50037559]\n",
      " [-0.15095914 -0.15095914]\n",
      " [-0.35739485 -0.35739485]\n",
      " [ 0.29469052  0.29469052]\n",
      " [-0.31829335 -0.31829335]\n",
      " [-0.40932233 -0.40932233]\n",
      " [-0.35478319 -0.35478319]\n",
      " [ 0.73426594  0.73426594]\n",
      " [-0.22502909 -0.22502909]\n",
      " [ 0.40232875  0.40232875]\n",
      " [ 1.          1.        ]\n",
      " [-0.2566497  -0.2566497 ]\n",
      " [ 1.          1.        ]\n",
      " [ 0.3163646   0.3163646 ]\n",
      " [ 0.61927768  0.61927768]\n",
      " [ 0.20297007  0.20297007]\n",
      " [ 1.          1.        ]\n",
      " [ 0.16711647  0.16711647]\n",
      " [ 1.          1.        ]\n",
      " [ 0.26282068  0.26282068]\n",
      " [ 0.66149474  0.66149474]\n",
      " [ 0.14507095  0.14507095]\n",
      " [ 0.20277066  0.20277066]\n",
      " [ 0.63164945  0.63164945]\n",
      " [-0.95580776 -0.95580776]\n",
      " [ 1.          1.        ]\n",
      " [-0.32705477 -0.32705477]\n",
      " [ 0.5133895   0.5133895 ]\n",
      " [ 0.20277066  0.20277066]\n",
      " [ 0.18442688  0.18442688]\n",
      " [ 0.05072718  0.05072718]\n",
      " [-0.51112015 -0.51112015]\n",
      " [-0.05065482 -0.05065482]\n",
      " [-0.281063   -0.281063  ]\n",
      " [-0.95998405 -0.95998405]\n",
      " [ 1.          1.        ]\n",
      " [ 0.75808864  0.75808864]\n",
      " [-0.51112015 -0.51112015]\n",
      " [-0.56383177 -0.56383177]\n",
      " [ 0.34713564  0.34713564]\n",
      " [ 0.61883907  0.61883907]\n",
      " [-0.17121368 -0.17121368]\n",
      " [-0.53437824 -0.53437824]\n",
      " [ 0.93878392  0.93878392]\n",
      " [ 0.17857923  0.17857923]\n",
      " [ 0.53933415  0.53933415]\n",
      " [ 0.50472078  0.50472078]\n",
      " [ 0.25875225  0.25875225]\n",
      " [ 0.22696374  0.22696374]\n",
      " [ 1.          1.        ]\n",
      " [ 0.90501155  0.90501155]]\n",
      "[0. 0. 0. 0. 0. 0. 0. 0. 0. 0. 0. 0. 0. 0. 0. 0. 0. 0. 0. 0. 0. 0. 0. 0.\n",
      " 0. 0. 0. 0. 0. 0. 0. 0. 0. 0. 0. 0. 0. 0. 0. 0. 0. 0. 0. 0. 0. 0. 0. 0.\n",
      " 0. 0. 0. 0. 0. 0. 0. 0. 0. 0. 0. 0. 1. 1. 1. 1. 1. 1. 1. 1. 1. 1. 1. 1.\n",
      " 1. 1. 1. 1. 1. 1. 1. 1. 1. 1. 1. 1. 1. 1. 1. 1. 1. 1. 1. 1. 1. 1. 1. 1.\n",
      " 1. 1. 1. 1.]\n"
     ]
    }
   ],
   "source": [
    "print (training_features)\n",
    "print (training_labels)"
   ]
  },
  {
   "cell_type": "code",
   "execution_count": 26,
   "metadata": {},
   "outputs": [
    {
     "name": "stdout",
     "output_type": "stream",
     "text": [
      "[[-0.28474227 -0.28474227]\n",
      " [ 1.          1.        ]\n",
      " [ 0.01504892  0.01504892]\n",
      " [-0.06143087 -0.06143087]\n",
      " [ 0.23336401  0.23336401]\n",
      " [-0.10375894 -0.10375894]\n",
      " [ 0.99544636  0.99544636]\n",
      " [-0.44060795 -0.44060795]\n",
      " [ 0.32753721  0.32753721]\n",
      " [ 0.63137381  0.63137381]\n",
      " [-0.15968211 -0.15968211]\n",
      " [ 0.27774771  0.27774771]\n",
      " [-0.17696551 -0.17696551]\n",
      " [ 0.38882413  0.38882413]\n",
      " [-0.88605822 -0.88605822]\n",
      " [-1.         -1.        ]\n",
      " [ 0.1257535   0.1257535 ]\n",
      " [ 1.          1.        ]\n",
      " [-0.28504419 -0.28504419]\n",
      " [ 1.          1.        ]\n",
      " [-0.31000912 -0.31000912]\n",
      " [ 0.93740072  0.93740072]\n",
      " [ 0.52892523  0.52892523]\n",
      " [-0.5452645  -0.5452645 ]\n",
      " [-0.07439477 -0.07439477]]\n",
      "[0. 0. 0. 0. 0. 0. 0. 0. 0. 0. 0. 0. 0. 1. 1. 1. 1. 1. 1. 1. 1. 1. 1. 1.\n",
      " 1.]\n"
     ]
    }
   ],
   "source": [
    "print (testing_features)\n",
    "print (testing_labels )"
   ]
  },
  {
   "cell_type": "markdown",
   "metadata": {},
   "source": [
    "## 1.K-NN Algorithim"
   ]
  },
  {
   "cell_type": "markdown",
   "metadata": {},
   "source": [
    "Load model and perform cross-validation"
   ]
  },
  {
   "cell_type": "markdown",
   "metadata": {},
   "source": [
    "Initialize the K-Nearest Neighbor classifier:\n",
    "Note that K=3 here (3 neighbors), but K is so-called a hyperparameter, which can be tuned to select the best value "
   ]
  },
  {
   "cell_type": "code",
   "execution_count": 27,
   "metadata": {},
   "outputs": [],
   "source": [
    "model = sklearn.neighbors.KNeighborsClassifier(n_neighbors=5)"
   ]
  },
  {
   "cell_type": "code",
   "execution_count": 28,
   "metadata": {},
   "outputs": [
    {
     "data": {
      "text/plain": [
       "KNeighborsClassifier(algorithm='auto', leaf_size=30, metric='minkowski',\n",
       "           metric_params=None, n_jobs=1, n_neighbors=5, p=2,\n",
       "           weights='uniform')"
      ]
     },
     "execution_count": 28,
     "metadata": {},
     "output_type": "execute_result"
    }
   ],
   "source": [
    "model.fit(training_features, training_labels)"
   ]
  },
  {
   "cell_type": "code",
   "execution_count": 29,
   "metadata": {},
   "outputs": [],
   "source": [
    "#print (testing_features)"
   ]
  },
  {
   "cell_type": "code",
   "execution_count": 30,
   "metadata": {},
   "outputs": [],
   "source": [
    "predicted_labels = model.predict(testing_features)"
   ]
  },
  {
   "cell_type": "code",
   "execution_count": 31,
   "metadata": {},
   "outputs": [
    {
     "name": "stdout",
     "output_type": "stream",
     "text": [
      "[0. 0. 0. 0. 0. 0. 0. 0. 0. 0. 0. 0. 0. 1. 1. 1. 1. 1. 1. 1. 1. 1. 1. 1.\n",
      " 1.]\n"
     ]
    }
   ],
   "source": [
    "print (testing_labels )"
   ]
  },
  {
   "cell_type": "code",
   "execution_count": 32,
   "metadata": {},
   "outputs": [
    {
     "name": "stdout",
     "output_type": "stream",
     "text": [
      "[0. 1. 0. 0. 1. 0. 0. 0. 0. 1. 0. 0. 0. 0. 0. 0. 1. 1. 0. 1. 0. 0. 1. 1.\n",
      " 0.]\n"
     ]
    }
   ],
   "source": [
    "print (predicted_labels)"
   ]
  },
  {
   "cell_type": "markdown",
   "metadata": {},
   "source": [
    "## Cross Validation"
   ]
  },
  {
   "cell_type": "markdown",
   "metadata": {},
   "source": [
    "K-fold cross validation is a method for evaluating the correctness of a classifier.\n",
    "\n",
    "For example, with 10-fold cross validation:\n",
    "\n",
    "Divide the data set into 10 random partitions. Choose one of the partitions as the test set. Train on the other nine partitions. Repeat for the partitions. Why cross validation is good?\n",
    "\n",
    "In K-fold cross validation, evaluation on models can be done K times, but each time on a different partition of the data. It can be used to tune parameters and to choose the best model and/or features."
   ]
  },
  {
   "cell_type": "markdown",
   "metadata": {},
   "source": [
    "Perform 5-fold cross validation (cv=5):"
   ]
  },
  {
   "cell_type": "code",
   "execution_count": 33,
   "metadata": {},
   "outputs": [],
   "source": [
    "acc  = sklearn.model_selection.cross_val_score(model, training_features, training_labels, cv=5)"
   ]
  },
  {
   "cell_type": "code",
   "execution_count": 34,
   "metadata": {},
   "outputs": [
    {
     "name": "stdout",
     "output_type": "stream",
     "text": [
      "[0.55 0.6  0.55 0.5  0.55]\n",
      "0.55\n"
     ]
    }
   ],
   "source": [
    "print (acc)\n",
    "print (acc.mean())"
   ]
  },
  {
   "cell_type": "markdown",
   "metadata": {},
   "source": [
    "## Tuning parameter K"
   ]
  },
  {
   "cell_type": "markdown",
   "metadata": {},
   "source": [
    "Since value of K has been arbitrarily chosen, we do not know whether it was the best choice (although here in this example, we have a perfect score anyway...). Therefore, testing the result with several other values will help to choose the best parameter."
   ]
  },
  {
   "cell_type": "code",
   "execution_count": 35,
   "metadata": {},
   "outputs": [
    {
     "name": "stdout",
     "output_type": "stream",
     "text": [
      "[K=1] Accuracy=0.610\n",
      "[K=2] Accuracy=0.610\n",
      "[K=3] Accuracy=0.550\n",
      "[K=4] Accuracy=0.570\n",
      "[K=5] Accuracy=0.550\n"
     ]
    }
   ],
   "source": [
    "K_choices = [1,2,3,4,5]\n",
    "for k in K_choices:\n",
    "    model = sklearn.neighbors.KNeighborsClassifier(n_neighbors=k)\n",
    "    mean_score = sklearn.model_selection.cross_val_score(model, training_features, training_labels, cv=5).mean()\n",
    "    print (\"[K=%d] Accuracy=%.3f\"%(k, mean_score))"
   ]
  },
  {
   "cell_type": "markdown",
   "metadata": {},
   "source": [
    "To test the classifier on a set of (test) feature vectors, use the predict method:"
   ]
  },
  {
   "cell_type": "markdown",
   "metadata": {},
   "source": [
    "## Evaluation"
   ]
  },
  {
   "cell_type": "markdown",
   "metadata": {},
   "source": [
    "The simplest evaluation measures to produce are the 'True Positive', 'False Positive' and 'False Negative' counts.\n",
    "With the true and false positive counts we can compute 'Precision', 'Recall' and 'F-Measure'. Precision describes the ratio of correctly classified files against all which were classified as positive. That is, precision = #TP / (#TP + #FP). Hence:\n",
    "The false positive count counts the number of classifications as positive but did not match our ground truth labels.\n",
    "The false negative count counts the number of incorrect classifications, labelled as negative, when the ground truth label was positive.\n",
    "Recall describes the ratio of correctly classified files against the files which were known to be correct. Recall = # TP / (# TP + # FN)\n",
    "The F-score is the harmonic mean of precision and recall, combining both measures:\n",
    "    "
   ]
  },
  {
   "cell_type": "markdown",
   "metadata": {},
   "source": [
    "Compute the number of true positives, true negatives, false positives, and false negatives:"
   ]
  },
  {
   "cell_type": "code",
   "execution_count": 36,
   "metadata": {},
   "outputs": [],
   "source": [
    "tp = sum((testing_labels == 1) & (predicted_labels == 1))\n",
    "tn = sum((testing_labels == 0) & (predicted_labels == 0))\n",
    "fp = sum((testing_labels == 0) & (predicted_labels == 1))\n",
    "fn = sum((testing_labels == 1) & (predicted_labels == 0))"
   ]
  },
  {
   "cell_type": "code",
   "execution_count": 37,
   "metadata": {},
   "outputs": [
    {
     "name": "stdout",
     "output_type": "stream",
     "text": [
      "5 10 3 7\n"
     ]
    }
   ],
   "source": [
    "print (tp, tn, fp, fn)"
   ]
  },
  {
   "cell_type": "markdown",
   "metadata": {},
   "source": [
    "Evaluate the model accuracy on the test data."
   ]
  },
  {
   "cell_type": "code",
   "execution_count": 38,
   "metadata": {},
   "outputs": [
    {
     "data": {
      "text/plain": [
       "KNeighborsClassifier(algorithm='auto', leaf_size=30, metric='minkowski',\n",
       "           metric_params=None, n_jobs=1, n_neighbors=5, p=2,\n",
       "           weights='uniform')"
      ]
     },
     "execution_count": 38,
     "metadata": {},
     "output_type": "execute_result"
    }
   ],
   "source": [
    "model.fit(training_features, training_labels)"
   ]
  },
  {
   "cell_type": "code",
   "execution_count": 39,
   "metadata": {},
   "outputs": [
    {
     "data": {
      "text/plain": [
       "0.6"
      ]
     },
     "execution_count": 39,
     "metadata": {},
     "output_type": "execute_result"
    }
   ],
   "source": [
    "model.score(testing_features, testing_labels)"
   ]
  },
  {
   "cell_type": "markdown",
   "metadata": {},
   "source": [
    "compute the recall score, and verify it is correct:"
   ]
  },
  {
   "cell_type": "code",
   "execution_count": 40,
   "metadata": {},
   "outputs": [
    {
     "data": {
      "text/plain": [
       "0.4166666666666667"
      ]
     },
     "execution_count": 40,
     "metadata": {},
     "output_type": "execute_result"
    }
   ],
   "source": [
    "sklearn.metrics.recall_score(testing_labels, predicted_labels)"
   ]
  },
  {
   "cell_type": "code",
   "execution_count": 41,
   "metadata": {},
   "outputs": [
    {
     "name": "stdout",
     "output_type": "stream",
     "text": [
      "0.4166666666666667\n"
     ]
    }
   ],
   "source": [
    "recall = tp/float(tp+fn)\n",
    "print (recall)"
   ]
  },
  {
   "cell_type": "markdown",
   "metadata": {},
   "source": [
    "Compute the precision score, and verify:"
   ]
  },
  {
   "cell_type": "code",
   "execution_count": 42,
   "metadata": {},
   "outputs": [
    {
     "data": {
      "text/plain": [
       "0.625"
      ]
     },
     "execution_count": 42,
     "metadata": {},
     "output_type": "execute_result"
    }
   ],
   "source": [
    "sklearn.metrics.precision_score(testing_labels, predicted_labels)"
   ]
  },
  {
   "cell_type": "code",
   "execution_count": 43,
   "metadata": {},
   "outputs": [
    {
     "name": "stdout",
     "output_type": "stream",
     "text": [
      "0.625\n"
     ]
    }
   ],
   "source": [
    "precision = tp/float(tp+fp)\n",
    "print (precision)"
   ]
  },
  {
   "cell_type": "markdown",
   "metadata": {},
   "source": [
    "Compute the F-measure, and verify:"
   ]
  },
  {
   "cell_type": "code",
   "execution_count": 44,
   "metadata": {},
   "outputs": [
    {
     "data": {
      "text/plain": [
       "0.5"
      ]
     },
     "execution_count": 44,
     "metadata": {},
     "output_type": "execute_result"
    }
   ],
   "source": [
    "sklearn.metrics.f1_score(testing_labels, predicted_labels)"
   ]
  },
  {
   "cell_type": "code",
   "execution_count": 45,
   "metadata": {},
   "outputs": [
    {
     "name": "stdout",
     "output_type": "stream",
     "text": [
      "0.5\n"
     ]
    }
   ],
   "source": [
    "fmeasure = 2*recall*precision/float(recall+precision)\n",
    "print (fmeasure)"
   ]
  },
  {
   "cell_type": "markdown",
   "metadata": {},
   "source": [
    "## Roc Curve"
   ]
  },
  {
   "cell_type": "markdown",
   "metadata": {},
   "source": [
    "Alternatively, often we want to understand the performance of a single classifier over a range of different threshold parameter settings. A \"Receiver Operating Characteristics\" (ROC) curve plots true positive rate vs. false positive rate for different parameter settings. This depicts the relative trade-offs between true positive (benefits) and false positive (costs) for each parameter value.\n",
    "\n",
    "Plotting this curve is made easy with scikit.learn's ROC functions. It is however, restricted to binary classifications (i.e. snare vs. non-snare)."
   ]
  },
  {
   "cell_type": "code",
   "execution_count": 46,
   "metadata": {},
   "outputs": [],
   "source": [
    "import numpy as np\n",
    "from sklearn.metrics import roc_curve\n",
    "from sklearn.metrics import roc_auc_score, auc\n",
    "roc_curve?"
   ]
  },
  {
   "cell_type": "code",
   "execution_count": 47,
   "metadata": {},
   "outputs": [
    {
     "name": "stdout",
     "output_type": "stream",
     "text": [
      "[1. 0. 1. 1. 0. 1. 1. 1. 1. 0. 1. 1. 1. 0. 0. 0. 1. 1. 0. 1. 0. 0. 1. 1.\n",
      " 0.]\n",
      "[0.         0.76923077 1.        ]\n",
      "[0.         0.41666667 1.        ]\n",
      "[2. 1. 0.]\n"
     ]
    }
   ],
   "source": [
    "# We can use roc_curve to produce the false and true positive rates for each example, given the labels and normalised scores. \n",
    "# The scores represent the classifier's confidence of each classification.\n",
    "# Since our classifications do not issue a confidence measure, we make them binary.\n",
    "#((testing_labels == 1) & (predicted_labels == 1))\n",
    "scores = (predicted_labels == testing_labels) + 0.0\n",
    "#scores = (model_output == gt_labels) + 0.0\n",
    "print (scores)\n",
    "\n",
    "positive_label = 1 # The label that we call correct.\n",
    "\n",
    "# We indicate to roc_curve that the value 1 in gt_labels is our positive snare label.\n",
    "fpr, tpr, thresholds = roc_curve(testing_labels, scores, pos_label=positive_label)\n",
    "print (fpr)\n",
    "print (tpr)\n",
    "print (thresholds)"
   ]
  },
  {
   "cell_type": "code",
   "execution_count": 48,
   "metadata": {},
   "outputs": [
    {
     "data": {
      "text/plain": [
       "0.3237179487179487"
      ]
     },
     "execution_count": 48,
     "metadata": {},
     "output_type": "execute_result"
    }
   ],
   "source": [
    "# Alternatively the area under curve can be computed directly from the positive rates.\n",
    "roc_auc = auc(fpr, tpr)\n",
    "roc_auc"
   ]
  },
  {
   "cell_type": "markdown",
   "metadata": {},
   "source": [
    "We can then plot an ROC curve with matplotlib"
   ]
  },
  {
   "cell_type": "code",
   "execution_count": 49,
   "metadata": {},
   "outputs": [
    {
     "data": {
      "image/png": "[encoded data removed]",
      "text/plain": [
       "<Figure size 432x288 with 1 Axes>"
      ]
     },
     "metadata": {},
     "output_type": "display_data"
    }
   ],
   "source": [
    "from matplotlib.pyplot import *\n",
    "\n",
    "clf()\n",
    "plot(fpr, tpr, '-x', label='ROC curve (area = %0.2f)' % roc_auc)\n",
    "# Plot the line of no discrimination\n",
    "plot([0, 1], [0, 1], 'k--')\n",
    "xlim([0.0, 1.0])\n",
    "ylim([0.0, 1.0])\n",
    "xlabel('False Positive Rate')\n",
    "ylabel('True Positive Rate')\n",
    "title('Receiver Operating Characteristic')\n",
    "legend(loc=\"lower right\")\n",
    "show()"
   ]
  },
  {
   "cell_type": "markdown",
   "metadata": {},
   "source": [
    "## 2.SVM"
   ]
  },
  {
   "cell_type": "code",
   "execution_count": 50,
   "metadata": {},
   "outputs": [],
   "source": [
    "from sklearn import svm\n",
    "model = svm.SVC(gamma=0.001)\n",
    "#model = svm.SVC(gamma='scale', decision_function_shape='ovo')"
   ]
  },
  {
   "cell_type": "code",
   "execution_count": 51,
   "metadata": {},
   "outputs": [
    {
     "data": {
      "text/plain": [
       "SVC(C=1.0, cache_size=200, class_weight=None, coef0=0.0,\n",
       "  decision_function_shape='ovr', degree=3, gamma=0.001, kernel='rbf',\n",
       "  max_iter=-1, probability=False, random_state=None, shrinking=True,\n",
       "  tol=0.001, verbose=False)"
      ]
     },
     "execution_count": 51,
     "metadata": {},
     "output_type": "execute_result"
    }
   ],
   "source": [
    "model.fit(training_features, training_labels)"
   ]
  },
  {
   "cell_type": "code",
   "execution_count": 52,
   "metadata": {},
   "outputs": [],
   "source": [
    "predicted_labels = model.predict(testing_features)"
   ]
  },
  {
   "cell_type": "code",
   "execution_count": 53,
   "metadata": {},
   "outputs": [
    {
     "name": "stdout",
     "output_type": "stream",
     "text": [
      "[0. 0. 0. 0. 0. 0. 0. 0. 0. 0. 0. 0. 0. 1. 1. 1. 1. 1. 1. 1. 1. 1. 1. 1.\n",
      " 1.]\n"
     ]
    }
   ],
   "source": [
    "print (testing_labels )"
   ]
  },
  {
   "cell_type": "markdown",
   "metadata": {},
   "source": [
    "Perform 5-fold cross validation (cv=5):"
   ]
  },
  {
   "cell_type": "code",
   "execution_count": 54,
   "metadata": {},
   "outputs": [],
   "source": [
    "acc  = sklearn.model_selection.cross_val_score(model, training_features, training_labels, cv=5)"
   ]
  },
  {
   "cell_type": "code",
   "execution_count": 55,
   "metadata": {},
   "outputs": [
    {
     "name": "stdout",
     "output_type": "stream",
     "text": [
      "[0.6 0.6 0.6 0.6 0.6]\n",
      "0.6\n"
     ]
    }
   ],
   "source": [
    "print (acc)\n",
    "print (acc.mean())"
   ]
  },
  {
   "cell_type": "markdown",
   "metadata": {},
   "source": [
    "Evaluation"
   ]
  },
  {
   "cell_type": "code",
   "execution_count": 56,
   "metadata": {},
   "outputs": [],
   "source": [
    "tp = sum((testing_labels == 1) & (predicted_labels == 1))\n",
    "tn = sum((testing_labels == 0) & (predicted_labels == 0))\n",
    "fp = sum((testing_labels == 0) & (predicted_labels == 1))\n",
    "fn = sum((testing_labels == 1) & (predicted_labels == 0))"
   ]
  },
  {
   "cell_type": "code",
   "execution_count": 57,
   "metadata": {},
   "outputs": [
    {
     "name": "stdout",
     "output_type": "stream",
     "text": [
      "0 13 0 12\n"
     ]
    }
   ],
   "source": [
    "print (tp, tn, fp, fn)"
   ]
  },
  {
   "cell_type": "markdown",
   "metadata": {},
   "source": [
    "Evaluate the model accuracy on the test data."
   ]
  },
  {
   "cell_type": "code",
   "execution_count": 58,
   "metadata": {},
   "outputs": [
    {
     "data": {
      "text/plain": [
       "SVC(C=1.0, cache_size=200, class_weight=None, coef0=0.0,\n",
       "  decision_function_shape='ovr', degree=3, gamma=0.001, kernel='rbf',\n",
       "  max_iter=-1, probability=False, random_state=None, shrinking=True,\n",
       "  tol=0.001, verbose=False)"
      ]
     },
     "execution_count": 58,
     "metadata": {},
     "output_type": "execute_result"
    }
   ],
   "source": [
    "model.fit(training_features, training_labels)"
   ]
  },
  {
   "cell_type": "code",
   "execution_count": 59,
   "metadata": {},
   "outputs": [
    {
     "data": {
      "text/plain": [
       "0.52"
      ]
     },
     "execution_count": 59,
     "metadata": {},
     "output_type": "execute_result"
    }
   ],
   "source": [
    "model.score(testing_features, testing_labels)"
   ]
  },
  {
   "cell_type": "markdown",
   "metadata": {},
   "source": [
    "compute the recall score, and verify it is correct:"
   ]
  },
  {
   "cell_type": "code",
   "execution_count": 60,
   "metadata": {},
   "outputs": [
    {
     "data": {
      "text/plain": [
       "0.0"
      ]
     },
     "execution_count": 60,
     "metadata": {},
     "output_type": "execute_result"
    }
   ],
   "source": [
    "sklearn.metrics.recall_score(testing_labels, predicted_labels)"
   ]
  },
  {
   "cell_type": "code",
   "execution_count": 61,
   "metadata": {},
   "outputs": [
    {
     "name": "stdout",
     "output_type": "stream",
     "text": [
      "0.0\n"
     ]
    }
   ],
   "source": [
    "recall = tp/float(tp+fn)\n",
    "print (recall)"
   ]
  },
  {
   "cell_type": "markdown",
   "metadata": {},
   "source": [
    "Compute the precision score, and verify:"
   ]
  },
  {
   "cell_type": "code",
   "execution_count": 62,
   "metadata": {},
   "outputs": [
    {
     "name": "stderr",
     "output_type": "stream",
     "text": [
      "/home/rutherford/.local/lib/python3.6/site-packages/sklearn/metrics/classification.py:1135: UndefinedMetricWarning: Precision is ill-defined and being set to 0.0 due to no predicted samples.\n",
      "  'precision', 'predicted', average, warn_for)\n"
     ]
    },
    {
     "data": {
      "text/plain": [
       "0.0"
      ]
     },
     "execution_count": 62,
     "metadata": {},
     "output_type": "execute_result"
    }
   ],
   "source": [
    "sklearn.metrics.precision_score(testing_labels, predicted_labels)"
   ]
  },
  {
   "cell_type": "code",
   "execution_count": 63,
   "metadata": {},
   "outputs": [
    {
     "name": "stdout",
     "output_type": "stream",
     "text": [
      "nan\n"
     ]
    },
    {
     "name": "stderr",
     "output_type": "stream",
     "text": [
      "/home/rutherford/.local/lib/python3.6/site-packages/ipykernel_launcher.py:1: RuntimeWarning: invalid value encountered in true_divide\n",
      "  \"\"\"Entry point for launching an IPython kernel.\n"
     ]
    }
   ],
   "source": [
    "precision = tp/float(tp+fp)\n",
    "print (precision)"
   ]
  },
  {
   "cell_type": "markdown",
   "metadata": {},
   "source": [
    "Compute the F-measure, and verify:"
   ]
  },
  {
   "cell_type": "code",
   "execution_count": 64,
   "metadata": {},
   "outputs": [
    {
     "name": "stderr",
     "output_type": "stream",
     "text": [
      "/home/rutherford/.local/lib/python3.6/site-packages/sklearn/metrics/classification.py:1135: UndefinedMetricWarning: F-score is ill-defined and being set to 0.0 due to no predicted samples.\n",
      "  'precision', 'predicted', average, warn_for)\n"
     ]
    },
    {
     "data": {
      "text/plain": [
       "0.0"
      ]
     },
     "execution_count": 64,
     "metadata": {},
     "output_type": "execute_result"
    }
   ],
   "source": [
    "sklearn.metrics.f1_score(testing_labels, predicted_labels)"
   ]
  },
  {
   "cell_type": "code",
   "execution_count": 65,
   "metadata": {},
   "outputs": [
    {
     "name": "stdout",
     "output_type": "stream",
     "text": [
      "nan\n"
     ]
    }
   ],
   "source": [
    "fmeasure = 2*recall*precision/float(recall+precision)\n",
    "print (fmeasure)"
   ]
  },
  {
   "cell_type": "markdown",
   "metadata": {},
   "source": [
    "## Roc Curve"
   ]
  },
  {
   "cell_type": "code",
   "execution_count": 66,
   "metadata": {},
   "outputs": [],
   "source": [
    "import numpy as np\n",
    "from sklearn.metrics import roc_curve\n",
    "from sklearn.metrics import roc_auc_score, auc\n",
    "roc_curve?"
   ]
  },
  {
   "cell_type": "code",
   "execution_count": 67,
   "metadata": {},
   "outputs": [
    {
     "name": "stdout",
     "output_type": "stream",
     "text": [
      "[1. 1. 1. 1. 1. 1. 1. 1. 1. 1. 1. 1. 1. 0. 0. 0. 0. 0. 0. 0. 0. 0. 0. 0.\n",
      " 0.]\n",
      "[0. 1. 1.]\n",
      "[0. 0. 1.]\n",
      "[2. 1. 0.]\n"
     ]
    }
   ],
   "source": [
    "# We can use roc_curve to produce the false and true positive rates for each example, given the labels and normalised scores. \n",
    "# The scores represent the classifier's confidence of each classification.\n",
    "# Since our classifications do not issue a confidence measure, we make them binary.\n",
    "#((testing_labels == 1) & (predicted_labels == 1))\n",
    "scores = (predicted_labels == testing_labels) + 0.0\n",
    "#scores = (model_output == gt_labels) + 0.0\n",
    "print (scores)\n",
    "\n",
    "positive_label = 1 # The label that we call correct.\n",
    "\n",
    "# We indicate to roc_curve that the value 1 in gt_labels is our positive snare label.\n",
    "fpr, tpr, thresholds = roc_curve(testing_labels, scores, pos_label=positive_label)\n",
    "print (fpr)\n",
    "print (tpr)\n",
    "print (thresholds)"
   ]
  },
  {
   "cell_type": "code",
   "execution_count": 68,
   "metadata": {},
   "outputs": [
    {
     "data": {
      "text/plain": [
       "0.0"
      ]
     },
     "execution_count": 68,
     "metadata": {},
     "output_type": "execute_result"
    }
   ],
   "source": [
    "# Alternatively the area under curve can be computed directly from the positive rates.\n",
    "roc_auc = auc(fpr, tpr)\n",
    "roc_auc"
   ]
  },
  {
   "cell_type": "markdown",
   "metadata": {},
   "source": [
    "We can then plot an ROC curve with matplotlib"
   ]
  },
  {
   "cell_type": "code",
   "execution_count": 69,
   "metadata": {},
   "outputs": [
    {
     "data": {
      "image/png": "[encoded data removed]",
      "text/plain": [
       "<Figure size 432x288 with 1 Axes>"
      ]
     },
     "metadata": {},
     "output_type": "display_data"
    }
   ],
   "source": [
    "from matplotlib.pyplot import *\n",
    "\n",
    "clf()\n",
    "plot(fpr, tpr, '-x', label='ROC curve (area = %0.2f)' % roc_auc)\n",
    "# Plot the line of no discrimination\n",
    "plot([0, 1], [0, 1], 'k--')\n",
    "xlim([0.0, 1.0])\n",
    "ylim([0.0, 1.0])\n",
    "xlabel('False Positive Rate')\n",
    "ylabel('True Positive Rate')\n",
    "title('Receiver Operating Characteristic')\n",
    "legend(loc=\"lower right\")\n",
    "show()"
   ]
  },
  {
   "cell_type": "markdown",
   "metadata": {},
   "source": [
    "## 3.Linear Regression"
   ]
  },
  {
   "cell_type": "code",
   "execution_count": 70,
   "metadata": {},
   "outputs": [],
   "source": [
    "model = sklearn.linear_model.LinearRegression()"
   ]
  },
  {
   "cell_type": "code",
   "execution_count": 71,
   "metadata": {},
   "outputs": [
    {
     "data": {
      "text/plain": [
       "LinearRegression(copy_X=True, fit_intercept=True, n_jobs=1, normalize=False)"
      ]
     },
     "execution_count": 71,
     "metadata": {},
     "output_type": "execute_result"
    }
   ],
   "source": [
    "model.fit(training_features, training_labels)"
   ]
  },
  {
   "cell_type": "code",
   "execution_count": 72,
   "metadata": {},
   "outputs": [],
   "source": [
    "acc  = sklearn.model_selection.cross_val_score(model, training_features, training_labels, cv=5)"
   ]
  },
  {
   "cell_type": "code",
   "execution_count": 73,
   "metadata": {},
   "outputs": [
    {
     "name": "stdout",
     "output_type": "stream",
     "text": [
      "[0. 0. 0. 0. 0.]\n",
      "0.0\n"
     ]
    }
   ],
   "source": [
    "print (acc)\n",
    "print (acc.mean())"
   ]
  },
  {
   "cell_type": "markdown",
   "metadata": {},
   "source": [
    "## 4.Logistic Regression"
   ]
  },
  {
   "cell_type": "code",
   "execution_count": 74,
   "metadata": {},
   "outputs": [],
   "source": [
    "model = sklearn.linear_model.LogisticRegression()"
   ]
  },
  {
   "cell_type": "code",
   "execution_count": 75,
   "metadata": {},
   "outputs": [
    {
     "data": {
      "text/plain": [
       "LogisticRegression(C=1.0, class_weight=None, dual=False, fit_intercept=True,\n",
       "          intercept_scaling=1, max_iter=100, multi_class='ovr', n_jobs=1,\n",
       "          penalty='l2', random_state=None, solver='liblinear', tol=0.0001,\n",
       "          verbose=0, warm_start=False)"
      ]
     },
     "execution_count": 75,
     "metadata": {},
     "output_type": "execute_result"
    }
   ],
   "source": [
    "model.fit(training_features, training_labels)"
   ]
  },
  {
   "cell_type": "code",
   "execution_count": 76,
   "metadata": {},
   "outputs": [],
   "source": [
    "acc  = sklearn.model_selection.cross_val_score(model, training_features, training_labels, cv=5)"
   ]
  },
  {
   "cell_type": "code",
   "execution_count": 77,
   "metadata": {},
   "outputs": [
    {
     "name": "stdout",
     "output_type": "stream",
     "text": [
      "[0.6  0.55 0.5  0.55 0.6 ]\n",
      "0.56\n"
     ]
    }
   ],
   "source": [
    "print (acc)\n",
    "print (acc.mean())"
   ]
  },
  {
   "cell_type": "code",
   "execution_count": 78,
   "metadata": {},
   "outputs": [],
   "source": [
    "predicted_labels = model.predict(testing_features)"
   ]
  },
  {
   "cell_type": "code",
   "execution_count": 79,
   "metadata": {},
   "outputs": [
    {
     "name": "stdout",
     "output_type": "stream",
     "text": [
      "[0. 0. 0. 0. 0. 0. 0. 0. 0. 0. 0. 0. 0. 1. 1. 1. 1. 1. 1. 1. 1. 1. 1. 1.\n",
      " 1.]\n"
     ]
    }
   ],
   "source": [
    "print (testing_labels )"
   ]
  },
  {
   "cell_type": "code",
   "execution_count": 80,
   "metadata": {},
   "outputs": [
    {
     "name": "stdout",
     "output_type": "stream",
     "text": [
      "[0. 0. 0. 0. 0. 0. 0. 0. 0. 0. 0. 0. 0. 0. 0. 0. 0. 0. 0. 0. 0. 0. 0. 0.\n",
      " 0.]\n"
     ]
    }
   ],
   "source": [
    "print (predicted_labels)"
   ]
  },
  {
   "cell_type": "markdown",
   "metadata": {},
   "source": [
    "Evaluation"
   ]
  },
  {
   "cell_type": "code",
   "execution_count": 81,
   "metadata": {},
   "outputs": [],
   "source": [
    "tp = sum((testing_labels == 1) & (predicted_labels == 1))\n",
    "tn = sum((testing_labels == 0) & (predicted_labels == 0))\n",
    "fp = sum((testing_labels == 0) & (predicted_labels == 1))\n",
    "fn = sum((testing_labels == 1) & (predicted_labels == 0))"
   ]
  },
  {
   "cell_type": "code",
   "execution_count": 82,
   "metadata": {},
   "outputs": [
    {
     "name": "stdout",
     "output_type": "stream",
     "text": [
      "0 13 0 12\n"
     ]
    }
   ],
   "source": [
    "print (tp, tn, fp, fn)"
   ]
  },
  {
   "cell_type": "markdown",
   "metadata": {},
   "source": [
    "Evaluate the model accuracy on the test data."
   ]
  },
  {
   "cell_type": "code",
   "execution_count": 83,
   "metadata": {},
   "outputs": [
    {
     "data": {
      "text/plain": [
       "LogisticRegression(C=1.0, class_weight=None, dual=False, fit_intercept=True,\n",
       "          intercept_scaling=1, max_iter=100, multi_class='ovr', n_jobs=1,\n",
       "          penalty='l2', random_state=None, solver='liblinear', tol=0.0001,\n",
       "          verbose=0, warm_start=False)"
      ]
     },
     "execution_count": 83,
     "metadata": {},
     "output_type": "execute_result"
    }
   ],
   "source": [
    "model.fit(training_features, training_labels)"
   ]
  },
  {
   "cell_type": "code",
   "execution_count": 84,
   "metadata": {},
   "outputs": [
    {
     "data": {
      "text/plain": [
       "0.52"
      ]
     },
     "execution_count": 84,
     "metadata": {},
     "output_type": "execute_result"
    }
   ],
   "source": [
    "model.score(testing_features, testing_labels)"
   ]
  },
  {
   "cell_type": "markdown",
   "metadata": {},
   "source": [
    "compute the recall score, and verify it is correct:"
   ]
  },
  {
   "cell_type": "code",
   "execution_count": 85,
   "metadata": {},
   "outputs": [
    {
     "name": "stdout",
     "output_type": "stream",
     "text": [
      "0.0\n"
     ]
    }
   ],
   "source": [
    "sklearn.metrics.recall_score(testing_labels, predicted_labels)\n",
    "recall = tp/float(tp+fn)\n",
    "print (recall)"
   ]
  },
  {
   "cell_type": "markdown",
   "metadata": {},
   "source": [
    "Compute the precision score, and verify:"
   ]
  },
  {
   "cell_type": "code",
   "execution_count": 86,
   "metadata": {},
   "outputs": [
    {
     "name": "stdout",
     "output_type": "stream",
     "text": [
      "nan\n"
     ]
    },
    {
     "name": "stderr",
     "output_type": "stream",
     "text": [
      "/home/rutherford/.local/lib/python3.6/site-packages/sklearn/metrics/classification.py:1135: UndefinedMetricWarning: Precision is ill-defined and being set to 0.0 due to no predicted samples.\n",
      "  'precision', 'predicted', average, warn_for)\n",
      "/home/rutherford/.local/lib/python3.6/site-packages/ipykernel_launcher.py:2: RuntimeWarning: invalid value encountered in true_divide\n",
      "  \n"
     ]
    }
   ],
   "source": [
    "sklearn.metrics.precision_score(testing_labels, predicted_labels)\n",
    "precision = tp/float(tp+fp)\n",
    "print (precision)"
   ]
  },
  {
   "cell_type": "markdown",
   "metadata": {},
   "source": [
    "Compute the F-measure, and verify:"
   ]
  },
  {
   "cell_type": "code",
   "execution_count": 87,
   "metadata": {},
   "outputs": [
    {
     "name": "stdout",
     "output_type": "stream",
     "text": [
      "nan\n"
     ]
    },
    {
     "name": "stderr",
     "output_type": "stream",
     "text": [
      "/home/rutherford/.local/lib/python3.6/site-packages/sklearn/metrics/classification.py:1135: UndefinedMetricWarning: F-score is ill-defined and being set to 0.0 due to no predicted samples.\n",
      "  'precision', 'predicted', average, warn_for)\n"
     ]
    }
   ],
   "source": [
    "sklearn.metrics.f1_score(testing_labels, predicted_labels)\n",
    "fmeasure = 2*recall*precision/float(recall+precision)\n",
    "print (fmeasure)"
   ]
  },
  {
   "cell_type": "markdown",
   "metadata": {},
   "source": [
    "## Roc Curve"
   ]
  },
  {
   "cell_type": "code",
   "execution_count": 88,
   "metadata": {},
   "outputs": [],
   "source": [
    "import numpy as np\n",
    "from sklearn.metrics import roc_curve\n",
    "from sklearn.metrics import roc_auc_score, auc\n",
    "roc_curve?"
   ]
  },
  {
   "cell_type": "code",
   "execution_count": 89,
   "metadata": {},
   "outputs": [
    {
     "name": "stdout",
     "output_type": "stream",
     "text": [
      "[1. 1. 1. 1. 1. 1. 1. 1. 1. 1. 1. 1. 1. 0. 0. 0. 0. 0. 0. 0. 0. 0. 0. 0.\n",
      " 0.]\n",
      "[0. 1. 1.]\n",
      "[0. 0. 1.]\n",
      "[2. 1. 0.]\n"
     ]
    }
   ],
   "source": [
    "# We can use roc_curve to produce the false and true positive rates for each example, given the labels and normalised scores. \n",
    "# The scores represent the classifier's confidence of each classification.\n",
    "# Since our classifications do not issue a confidence measure, we make them binary.\n",
    "#((testing_labels == 1) & (predicted_labels == 1))\n",
    "scores = (predicted_labels == testing_labels) + 0.0\n",
    "#scores = (model_output == gt_labels) + 0.0\n",
    "print (scores)\n",
    "\n",
    "positive_label = 1 # The label that we call correct.\n",
    "\n",
    "# We indicate to roc_curve that the value 1 in gt_labels is our positive snare label.\n",
    "fpr, tpr, thresholds = roc_curve(testing_labels, scores, pos_label=positive_label)\n",
    "print (fpr)\n",
    "print (tpr)\n",
    "print (thresholds)"
   ]
  },
  {
   "cell_type": "code",
   "execution_count": 90,
   "metadata": {},
   "outputs": [
    {
     "data": {
      "text/plain": [
       "0.0"
      ]
     },
     "execution_count": 90,
     "metadata": {},
     "output_type": "execute_result"
    }
   ],
   "source": [
    "# Alternatively the area under curve can be computed directly from the positive rates.\n",
    "roc_auc = auc(fpr, tpr)\n",
    "roc_auc"
   ]
  },
  {
   "cell_type": "markdown",
   "metadata": {},
   "source": [
    "We can then plot an ROC curve with matplotlib"
   ]
  },
  {
   "cell_type": "code",
   "execution_count": 91,
   "metadata": {},
   "outputs": [
    {
     "data": {
      "image/png": "[encoded data removed]",
      "text/plain": [
       "<Figure size 432x288 with 1 Axes>"
      ]
     },
     "metadata": {},
     "output_type": "display_data"
    }
   ],
   "source": [
    "from matplotlib.pyplot import *\n",
    "\n",
    "clf()\n",
    "plot(fpr, tpr, '-x', label='ROC curve (area = %0.2f)' % roc_auc)\n",
    "# Plot the line of no discrimination\n",
    "plot([0, 1], [0, 1], 'k--')\n",
    "xlim([0.0, 1.0])\n",
    "ylim([0.0, 1.0])\n",
    "xlabel('False Positive Rate')\n",
    "ylabel('True Positive Rate')\n",
    "title('Receiver Operating Characteristic')\n",
    "legend(loc=\"lower right\")\n",
    "show()"
   ]
  },
  {
   "cell_type": "markdown",
   "metadata": {},
   "source": [
    "## 5.Naive Bayes"
   ]
  },
  {
   "cell_type": "code",
   "execution_count": 92,
   "metadata": {},
   "outputs": [],
   "source": [
    "from sklearn.naive_bayes import GaussianNB\n",
    "model = sklearn.naive_bayes.GaussianNB()"
   ]
  },
  {
   "cell_type": "code",
   "execution_count": 93,
   "metadata": {},
   "outputs": [
    {
     "data": {
      "text/plain": [
       "GaussianNB(priors=None)"
      ]
     },
     "execution_count": 93,
     "metadata": {},
     "output_type": "execute_result"
    }
   ],
   "source": [
    "model.fit(training_features, training_labels)"
   ]
  },
  {
   "cell_type": "code",
   "execution_count": 94,
   "metadata": {},
   "outputs": [],
   "source": [
    "acc  = sklearn.model_selection.cross_val_score(model, training_features, training_labels, cv=5)"
   ]
  },
  {
   "cell_type": "code",
   "execution_count": 95,
   "metadata": {},
   "outputs": [
    {
     "name": "stdout",
     "output_type": "stream",
     "text": [
      "[0.6  0.5  0.35 0.5  0.6 ]\n",
      "0.51\n"
     ]
    }
   ],
   "source": [
    "print (acc)\n",
    "print (acc.mean())"
   ]
  },
  {
   "cell_type": "markdown",
   "metadata": {},
   "source": [
    "EValuation"
   ]
  },
  {
   "cell_type": "code",
   "execution_count": 96,
   "metadata": {},
   "outputs": [],
   "source": [
    "predicted_labels = model.predict(testing_features)"
   ]
  },
  {
   "cell_type": "code",
   "execution_count": 97,
   "metadata": {},
   "outputs": [
    {
     "data": {
      "text/plain": [
       "array([0., 1., 0., 0., 0., 0., 1., 0., 0., 1., 0., 0., 0., 0., 0., 0., 0.,\n",
       "       1., 0., 1., 0., 1., 0., 0., 0.])"
      ]
     },
     "execution_count": 97,
     "metadata": {},
     "output_type": "execute_result"
    }
   ],
   "source": [
    "predicted_labels"
   ]
  },
  {
   "cell_type": "code",
   "execution_count": 98,
   "metadata": {},
   "outputs": [],
   "source": [
    "tp = sum((testing_labels == 1) & (predicted_labels == 1))\n",
    "tn = sum((testing_labels == 0) & (predicted_labels == 0))\n",
    "fp = sum((testing_labels == 0) & (predicted_labels == 1))\n",
    "fn = sum((testing_labels == 1) & (predicted_labels == 0))"
   ]
  },
  {
   "cell_type": "code",
   "execution_count": 99,
   "metadata": {},
   "outputs": [
    {
     "name": "stdout",
     "output_type": "stream",
     "text": [
      "3 10 3 9\n"
     ]
    }
   ],
   "source": [
    "print (tp, tn, fp, fn)"
   ]
  },
  {
   "cell_type": "markdown",
   "metadata": {},
   "source": [
    "Evaluate the model accuracy on the test data."
   ]
  },
  {
   "cell_type": "code",
   "execution_count": 100,
   "metadata": {},
   "outputs": [
    {
     "data": {
      "text/plain": [
       "0.52"
      ]
     },
     "execution_count": 100,
     "metadata": {},
     "output_type": "execute_result"
    }
   ],
   "source": [
    "model.score(testing_features, testing_labels)"
   ]
  },
  {
   "cell_type": "markdown",
   "metadata": {},
   "source": [
    "compute the recall score, and verify it is correct:"
   ]
  },
  {
   "cell_type": "code",
   "execution_count": 101,
   "metadata": {},
   "outputs": [
    {
     "data": {
      "text/plain": [
       "0.25"
      ]
     },
     "execution_count": 101,
     "metadata": {},
     "output_type": "execute_result"
    }
   ],
   "source": [
    "sklearn.metrics.recall_score(testing_labels, predicted_labels)"
   ]
  },
  {
   "cell_type": "code",
   "execution_count": 102,
   "metadata": {},
   "outputs": [
    {
     "name": "stdout",
     "output_type": "stream",
     "text": [
      "0.25\n"
     ]
    }
   ],
   "source": [
    "recall = tp/float(tp+fn)\n",
    "print (recall)"
   ]
  },
  {
   "cell_type": "markdown",
   "metadata": {},
   "source": [
    "Compute the precision score, and verify:"
   ]
  },
  {
   "cell_type": "code",
   "execution_count": 103,
   "metadata": {},
   "outputs": [
    {
     "data": {
      "text/plain": [
       "0.5"
      ]
     },
     "execution_count": 103,
     "metadata": {},
     "output_type": "execute_result"
    }
   ],
   "source": [
    "sklearn.metrics.precision_score(testing_labels, predicted_labels)"
   ]
  },
  {
   "cell_type": "code",
   "execution_count": 104,
   "metadata": {},
   "outputs": [
    {
     "name": "stdout",
     "output_type": "stream",
     "text": [
      "0.5\n"
     ]
    }
   ],
   "source": [
    "precision = tp/float(tp+fp)\n",
    "print (precision)"
   ]
  },
  {
   "cell_type": "markdown",
   "metadata": {},
   "source": [
    "## Roc Curve"
   ]
  },
  {
   "cell_type": "markdown",
   "metadata": {},
   "source": [
    "Alternatively, often we want to understand the performance of a single classifier over a range of different threshold parameter settings. A \"Receiver Operating Characteristics\" (ROC) curve plots true positive rate vs. false positive rate for different parameter settings. This depicts the relative trade-offs between true positive (benefits) and false positive (costs) for each parameter value.\n",
    "\n",
    "Plotting this curve is made easy with scikit.learn's ROC functions. It is however, restricted to binary classifications (i.e. snare vs. non-snare)."
   ]
  },
  {
   "cell_type": "code",
   "execution_count": 105,
   "metadata": {},
   "outputs": [],
   "source": [
    "import numpy as np\n",
    "from sklearn.metrics import roc_curve\n",
    "from sklearn.metrics import roc_auc_score, auc\n",
    "roc_curve?"
   ]
  },
  {
   "cell_type": "code",
   "execution_count": 106,
   "metadata": {},
   "outputs": [
    {
     "name": "stdout",
     "output_type": "stream",
     "text": [
      "[1. 0. 1. 1. 1. 1. 0. 1. 1. 0. 1. 1. 1. 0. 0. 0. 0. 1. 0. 1. 0. 1. 0. 0.\n",
      " 0.]\n",
      "[0.         0.76923077 1.        ]\n",
      "[0.   0.25 1.  ]\n",
      "[2. 1. 0.]\n"
     ]
    }
   ],
   "source": [
    "# We can use roc_curve to produce the false and true positive rates for each example, given the labels and normalised scores. \n",
    "# The scores represent the classifier's confidence of each classification.\n",
    "# Since our classifications do not issue a confidence measure, we make them binary.\n",
    "#((testing_labels == 1) & (predicted_labels == 1))\n",
    "scores = (predicted_labels == testing_labels) + 0.0\n",
    "#scores = (model_output == gt_labels) + 0.0\n",
    "print (scores)\n",
    "\n",
    "positive_label = 1 # The label that we call correct.\n",
    "\n",
    "# We indicate to roc_curve that the value 1 in gt_labels is our positive snare label.\n",
    "fpr, tpr, thresholds = roc_curve(testing_labels, scores, pos_label=positive_label)\n",
    "print (fpr)\n",
    "print (tpr)\n",
    "print (thresholds)"
   ]
  },
  {
   "cell_type": "code",
   "execution_count": 107,
   "metadata": {},
   "outputs": [
    {
     "data": {
      "text/plain": [
       "0.24038461538461536"
      ]
     },
     "execution_count": 107,
     "metadata": {},
     "output_type": "execute_result"
    }
   ],
   "source": [
    "# Alternatively the area under curve can be computed directly from the positive rates.\n",
    "roc_auc = auc(fpr, tpr)\n",
    "roc_auc"
   ]
  },
  {
   "cell_type": "markdown",
   "metadata": {},
   "source": [
    "We can then plot an ROC curve with matplotlib"
   ]
  },
  {
   "cell_type": "code",
   "execution_count": 108,
   "metadata": {},
   "outputs": [
    {
     "data": {
      "image/png": "[encoded data removed]",
      "text/plain": [
       "<Figure size 432x288 with 1 Axes>"
      ]
     },
     "metadata": {},
     "output_type": "display_data"
    }
   ],
   "source": [
    "from matplotlib.pyplot import *\n",
    "\n",
    "clf()\n",
    "plot(fpr, tpr, '-x', label='ROC curve (area = %0.2f)' % roc_auc)\n",
    "# Plot the line of no discrimination\n",
    "plot([0, 1], [0, 1], 'k--')\n",
    "xlim([0.0, 1.0])\n",
    "ylim([0.0, 1.0])\n",
    "xlabel('False Positive Rate')\n",
    "ylabel('True Positive Rate')\n",
    "title('Receiver Operating Characteristic')\n",
    "legend(loc=\"lower right\")\n",
    "show()"
   ]
  },
  {
   "cell_type": "markdown",
   "metadata": {},
   "source": [
    "## 6.Random Forest"
   ]
  },
  {
   "cell_type": "code",
   "execution_count": 109,
   "metadata": {},
   "outputs": [
    {
     "name": "stderr",
     "output_type": "stream",
     "text": [
      "/home/rutherford/.local/lib/python3.6/site-packages/sklearn/ensemble/weight_boosting.py:29: DeprecationWarning: numpy.core.umath_tests is an internal NumPy module and should not be imported. It will be removed in a future NumPy release.\n",
      "  from numpy.core.umath_tests import inner1d\n"
     ]
    }
   ],
   "source": [
    "from sklearn.ensemble import RandomForestClassifier\n",
    "from sklearn.datasets import make_classification"
   ]
  },
  {
   "cell_type": "code",
   "execution_count": 110,
   "metadata": {},
   "outputs": [],
   "source": [
    "training_features, training_labels = make_classification(n_samples=100, n_features=4,\n",
    "                                                         n_informative=2, n_redundant=0,\n",
    "                                                         random_state=0, shuffle=False)"
   ]
  },
  {
   "cell_type": "code",
   "execution_count": 111,
   "metadata": {},
   "outputs": [],
   "source": [
    "model = RandomForestClassifier(n_estimators=100, max_depth=2,random_state=0)"
   ]
  },
  {
   "cell_type": "code",
   "execution_count": 112,
   "metadata": {},
   "outputs": [
    {
     "data": {
      "text/plain": [
       "RandomForestClassifier(bootstrap=True, class_weight=None, criterion='gini',\n",
       "            max_depth=2, max_features='auto', max_leaf_nodes=None,\n",
       "            min_impurity_decrease=0.0, min_impurity_split=None,\n",
       "            min_samples_leaf=1, min_samples_split=2,\n",
       "            min_weight_fraction_leaf=0.0, n_estimators=100, n_jobs=1,\n",
       "            oob_score=False, random_state=0, verbose=0, warm_start=False)"
      ]
     },
     "execution_count": 112,
     "metadata": {},
     "output_type": "execute_result"
    }
   ],
   "source": [
    "model.fit(training_features, training_labels)"
   ]
  },
  {
   "cell_type": "code",
   "execution_count": 113,
   "metadata": {},
   "outputs": [],
   "source": [
    "acc  = sklearn.model_selection.cross_val_score(model, training_features, training_labels, cv=5)"
   ]
  },
  {
   "cell_type": "code",
   "execution_count": 114,
   "metadata": {},
   "outputs": [
    {
     "name": "stdout",
     "output_type": "stream",
     "text": [
      "[0.9047619  0.85       0.9        0.95       0.89473684]\n",
      "0.8998997493734334\n"
     ]
    }
   ],
   "source": [
    "print (acc)\n",
    "print (acc.mean())"
   ]
  },
  {
   "cell_type": "markdown",
   "metadata": {},
   "source": [
    "Evaluation"
   ]
  },
  {
   "cell_type": "markdown",
   "metadata": {},
   "source": [
    "Predicted labels"
   ]
  },
  {
   "cell_type": "code",
   "execution_count": 115,
   "metadata": {},
   "outputs": [],
   "source": [
    "testing_features, testing_labels = make_classification(n_samples=100, n_features=4,\n",
    "                                                         n_informative=2, n_redundant=0,\n",
    "                                                         random_state=0, shuffle=False)"
   ]
  },
  {
   "cell_type": "code",
   "execution_count": 116,
   "metadata": {},
   "outputs": [],
   "source": [
    "predicted_labels = model.predict(testing_features)"
   ]
  },
  {
   "cell_type": "code",
   "execution_count": 117,
   "metadata": {},
   "outputs": [
    {
     "name": "stdout",
     "output_type": "stream",
     "text": [
      "[0 0 0 0 0 0 0 0 0 0 1 0 0 0 0 0 1 0 0 0 1 0 1 0 1 1 1 1 1 1 1 0 1 1 1 1 1\n",
      " 1 1 1 1 1 1 1 1 1 1 1 1 1 0 0 0 0 0 0 0 0 0 0 0 0 0 0 0 0 0 0 0 0 0 0 0 0\n",
      " 0 1 1 1 1 1 1 1 1 0 1 1 1 1 1 1 1 0 1 1 1 1 1 1 1 1]\n"
     ]
    }
   ],
   "source": [
    "print (predicted_labels)"
   ]
  },
  {
   "cell_type": "markdown",
   "metadata": {},
   "source": [
    "Evaluation"
   ]
  },
  {
   "cell_type": "code",
   "execution_count": 118,
   "metadata": {},
   "outputs": [],
   "source": [
    "tp = sum((testing_labels == 1) & (predicted_labels == 1))\n",
    "tn = sum((testing_labels == 0) & (predicted_labels == 0))\n",
    "fp = sum((testing_labels == 0) & (predicted_labels == 1))\n",
    "fn = sum((testing_labels == 1) & (predicted_labels == 0))"
   ]
  },
  {
   "cell_type": "code",
   "execution_count": 119,
   "metadata": {},
   "outputs": [
    {
     "name": "stdout",
     "output_type": "stream",
     "text": [
      "48 45 4 3\n"
     ]
    }
   ],
   "source": [
    "print (tp, tn, fp, fn)"
   ]
  },
  {
   "cell_type": "markdown",
   "metadata": {},
   "source": [
    "Evaluate the model accuracy on the test data."
   ]
  },
  {
   "cell_type": "code",
   "execution_count": 120,
   "metadata": {},
   "outputs": [
    {
     "data": {
      "text/plain": [
       "RandomForestClassifier(bootstrap=True, class_weight=None, criterion='gini',\n",
       "            max_depth=2, max_features='auto', max_leaf_nodes=None,\n",
       "            min_impurity_decrease=0.0, min_impurity_split=None,\n",
       "            min_samples_leaf=1, min_samples_split=2,\n",
       "            min_weight_fraction_leaf=0.0, n_estimators=100, n_jobs=1,\n",
       "            oob_score=False, random_state=0, verbose=0, warm_start=False)"
      ]
     },
     "execution_count": 120,
     "metadata": {},
     "output_type": "execute_result"
    }
   ],
   "source": [
    "model.fit(training_features, training_labels)"
   ]
  },
  {
   "cell_type": "code",
   "execution_count": 121,
   "metadata": {},
   "outputs": [
    {
     "data": {
      "text/plain": [
       "0.93"
      ]
     },
     "execution_count": 121,
     "metadata": {},
     "output_type": "execute_result"
    }
   ],
   "source": [
    "model.score(testing_features, testing_labels)"
   ]
  },
  {
   "cell_type": "markdown",
   "metadata": {},
   "source": [
    "compute the recall score, and verify it is correct:"
   ]
  },
  {
   "cell_type": "code",
   "execution_count": 122,
   "metadata": {},
   "outputs": [
    {
     "data": {
      "text/plain": [
       "0.9411764705882353"
      ]
     },
     "execution_count": 122,
     "metadata": {},
     "output_type": "execute_result"
    }
   ],
   "source": [
    "sklearn.metrics.recall_score(testing_labels, predicted_labels)"
   ]
  },
  {
   "cell_type": "code",
   "execution_count": 123,
   "metadata": {},
   "outputs": [
    {
     "name": "stdout",
     "output_type": "stream",
     "text": [
      "0.9411764705882353\n"
     ]
    }
   ],
   "source": [
    "recall = tp/float(tp+fn)\n",
    "print (recall)"
   ]
  },
  {
   "cell_type": "markdown",
   "metadata": {},
   "source": [
    "Compute the precision score, and verify:"
   ]
  },
  {
   "cell_type": "code",
   "execution_count": 124,
   "metadata": {},
   "outputs": [
    {
     "data": {
      "text/plain": [
       "0.9230769230769231"
      ]
     },
     "execution_count": 124,
     "metadata": {},
     "output_type": "execute_result"
    }
   ],
   "source": [
    "sklearn.metrics.precision_score(testing_labels, predicted_labels)"
   ]
  },
  {
   "cell_type": "code",
   "execution_count": 125,
   "metadata": {},
   "outputs": [
    {
     "name": "stdout",
     "output_type": "stream",
     "text": [
      "0.9230769230769231\n"
     ]
    }
   ],
   "source": [
    "precision = tp/float(tp+fp)\n",
    "print (precision)"
   ]
  },
  {
   "cell_type": "markdown",
   "metadata": {},
   "source": [
    "Compute the F-measure, and verify:"
   ]
  },
  {
   "cell_type": "code",
   "execution_count": 126,
   "metadata": {},
   "outputs": [
    {
     "data": {
      "text/plain": [
       "0.9320388349514563"
      ]
     },
     "execution_count": 126,
     "metadata": {},
     "output_type": "execute_result"
    }
   ],
   "source": [
    "sklearn.metrics.f1_score(testing_labels, predicted_labels)"
   ]
  },
  {
   "cell_type": "code",
   "execution_count": 127,
   "metadata": {},
   "outputs": [
    {
     "name": "stdout",
     "output_type": "stream",
     "text": [
      "0.9320388349514563\n"
     ]
    }
   ],
   "source": [
    "fmeasure = 2*recall*precision/float(recall+precision)\n",
    "print (fmeasure)"
   ]
  },
  {
   "cell_type": "markdown",
   "metadata": {},
   "source": [
    "## Roc Curve"
   ]
  },
  {
   "cell_type": "code",
   "execution_count": 128,
   "metadata": {},
   "outputs": [],
   "source": [
    "import numpy as np\n",
    "from sklearn.metrics import roc_curve\n",
    "from sklearn.metrics import roc_auc_score, auc\n",
    "roc_curve?"
   ]
  },
  {
   "cell_type": "code",
   "execution_count": 129,
   "metadata": {},
   "outputs": [
    {
     "name": "stdout",
     "output_type": "stream",
     "text": [
      "[1. 1. 1. 1. 1. 1. 1. 1. 1. 1. 1. 1. 1. 1. 1. 1. 0. 1. 1. 1. 0. 1. 0. 1.\n",
      " 0. 1. 1. 1. 1. 1. 1. 0. 1. 1. 1. 1. 1. 1. 1. 1. 1. 1. 1. 1. 1. 1. 1. 1.\n",
      " 1. 1. 1. 1. 1. 1. 1. 1. 1. 1. 1. 1. 1. 1. 1. 1. 1. 1. 1. 1. 1. 1. 1. 1.\n",
      " 1. 1. 1. 1. 1. 1. 1. 1. 1. 1. 1. 0. 1. 1. 1. 1. 1. 1. 1. 0. 1. 1. 1. 1.\n",
      " 1. 1. 1. 1.]\n",
      "[0.         0.91836735 1.        ]\n",
      "[0.         0.94117647 1.        ]\n",
      "[2. 1. 0.]\n"
     ]
    }
   ],
   "source": [
    "# We can use roc_curve to produce the false and true positive rates for each example, given the labels and normalised scores. \n",
    "# The scores represent the classifier's confidence of each classification.\n",
    "# Since our classifications do not issue a confidence measure, we make them binary.\n",
    "#((testing_labels == 1) & (predicted_labels == 1))\n",
    "scores = (predicted_labels == testing_labels) + 0.0\n",
    "#scores = (model_output == gt_labels) + 0.0\n",
    "print (scores)\n",
    "\n",
    "positive_label = 1 # The label that we call correct.\n",
    "\n",
    "# We indicate to roc_curve that the value 1 in gt_labels is our positive snare label.\n",
    "fpr, tpr, thresholds = roc_curve(testing_labels, scores, pos_label=positive_label)\n",
    "print (fpr)\n",
    "print (tpr)\n",
    "print (thresholds)"
   ]
  },
  {
   "cell_type": "code",
   "execution_count": 130,
   "metadata": {},
   "outputs": [
    {
     "data": {
      "text/plain": [
       "0.5114045618247298"
      ]
     },
     "execution_count": 130,
     "metadata": {},
     "output_type": "execute_result"
    }
   ],
   "source": [
    "# Alternatively the area under curve can be computed directly from the positive rates.\n",
    "roc_auc = auc(fpr, tpr)\n",
    "roc_auc"
   ]
  },
  {
   "cell_type": "markdown",
   "metadata": {},
   "source": [
    "We can then plot an ROC curve with matplotlib"
   ]
  },
  {
   "cell_type": "code",
   "execution_count": 131,
   "metadata": {
    "scrolled": true
   },
   "outputs": [
    {
     "data": {
      "image/png": "[encoded data removed]",
      "text/plain": [
       "<Figure size 432x288 with 1 Axes>"
      ]
     },
     "metadata": {},
     "output_type": "display_data"
    }
   ],
   "source": [
    "from matplotlib.pyplot import *\n",
    "\n",
    "clf()\n",
    "plot(fpr, tpr, '-x', label='ROC curve (area = %0.2f)' % roc_auc)\n",
    "# Plot the line of no discrimination\n",
    "plot([0, 1], [0, 1], 'k--')\n",
    "xlim([0.0, 1.0])\n",
    "ylim([0.0, 1.0])\n",
    "xlabel('False Positive Rate')\n",
    "ylabel('True Positive Rate')\n",
    "title('Receiver Operating Characteristic')\n",
    "legend(loc=\"lower right\")\n",
    "show()"
   ]
  },
  {
   "cell_type": "markdown",
   "metadata": {},
   "source": [
    "## 7.Gausian Mixture Models"
   ]
  },
  {
   "cell_type": "code",
   "execution_count": 132,
   "metadata": {},
   "outputs": [],
   "source": [
    "from sklearn.mixture import GaussianMixture\n",
    "model = sklearn.mixture.GaussianMixture()"
   ]
  },
  {
   "cell_type": "code",
   "execution_count": 133,
   "metadata": {},
   "outputs": [
    {
     "data": {
      "text/plain": [
       "GaussianMixture(covariance_type='full', init_params='kmeans', max_iter=100,\n",
       "        means_init=None, n_components=1, n_init=1, precisions_init=None,\n",
       "        random_state=None, reg_covar=1e-06, tol=0.001, verbose=0,\n",
       "        verbose_interval=10, warm_start=False, weights_init=None)"
      ]
     },
     "execution_count": 133,
     "metadata": {},
     "output_type": "execute_result"
    }
   ],
   "source": [
    "model.fit(training_features, training_labels)"
   ]
  },
  {
   "cell_type": "code",
   "execution_count": 134,
   "metadata": {},
   "outputs": [],
   "source": [
    "acc  = sklearn.model_selection.cross_val_score(model, training_features, training_labels, cv=5)"
   ]
  },
  {
   "cell_type": "code",
   "execution_count": 135,
   "metadata": {},
   "outputs": [
    {
     "name": "stdout",
     "output_type": "stream",
     "text": [
      "[-6.58545193 -6.71819301 -6.1137356  -6.00332387 -7.42954834]\n",
      "-6.570050548993097\n"
     ]
    }
   ],
   "source": [
    "print (acc)\n",
    "print (acc.mean())"
   ]
  },
  {
   "cell_type": "code",
   "execution_count": 136,
   "metadata": {},
   "outputs": [],
   "source": [
    "from math import exp\n",
    "#prob = exp(acc)"
   ]
  },
  {
   "cell_type": "code",
   "execution_count": 137,
   "metadata": {},
   "outputs": [],
   "source": [
    "predicted_labels = model.predict(testing_features)"
   ]
  },
  {
   "cell_type": "code",
   "execution_count": 138,
   "metadata": {},
   "outputs": [
    {
     "name": "stdout",
     "output_type": "stream",
     "text": [
      "[0 0 0 0 0 0 0 0 0 0 0 0 0 0 0 0 0 0 0 0 0 0 0 0 0 0 0 0 0 0 0 0 0 0 0 0 0\n",
      " 0 0 0 0 0 0 0 0 0 0 0 0 0 0 0 0 0 0 0 0 0 0 0 0 0 0 0 0 0 0 0 0 0 0 0 0 0\n",
      " 0 0 0 0 0 0 0 0 0 0 0 0 0 0 0 0 0 0 0 0 0 0 0 0 0 0]\n"
     ]
    }
   ],
   "source": [
    "print (predicted_labels)"
   ]
  },
  {
   "cell_type": "code",
   "execution_count": 139,
   "metadata": {},
   "outputs": [
    {
     "ename": "AttributeError",
     "evalue": "'GaussianMixture' object has no attribute 'fit_predict'",
     "output_type": "error",
     "traceback": [
      "\u001b[0;31m---------------------------------------------------------------------------\u001b[0m",
      "\u001b[0;31mAttributeError\u001b[0m                            Traceback (most recent call last)",
      "\u001b[0;32m<ipython-input-139-15fe90c7fed1>\u001b[0m in \u001b[0;36m<module>\u001b[0;34m()\u001b[0m\n\u001b[0;32m----> 1\u001b[0;31m \u001b[0mmodel\u001b[0m\u001b[0;34m.\u001b[0m\u001b[0mfit_predict\u001b[0m\u001b[0;34m(\u001b[0m\u001b[0mtesting_features\u001b[0m\u001b[0;34m)\u001b[0m\u001b[0;34m\u001b[0m\u001b[0;34m\u001b[0m\u001b[0m\n\u001b[0m",
      "\u001b[0;31mAttributeError\u001b[0m: 'GaussianMixture' object has no attribute 'fit_predict'"
     ]
    }
   ],
   "source": [
    "model.fit_predict(testing_features)"
   ]
  },
  {
   "cell_type": "code",
   "execution_count": 140,
   "metadata": {},
   "outputs": [
    {
     "ename": "NameError",
     "evalue": "name 'gmm' is not defined",
     "output_type": "error",
     "traceback": [
      "\u001b[0;31m---------------------------------------------------------------------------\u001b[0m",
      "\u001b[0;31mNameError\u001b[0m                                 Traceback (most recent call last)",
      "\u001b[0;32m<ipython-input-140-f4c6356fbc95>\u001b[0m in \u001b[0;36m<module>\u001b[0;34m()\u001b[0m\n\u001b[0;32m----> 1\u001b[0;31m \u001b[0mgmm\u001b[0m\u001b[0;34m.\u001b[0m\u001b[0mscore\u001b[0m\u001b[0;34m(\u001b[0m\u001b[0mtesting_features\u001b[0m\u001b[0;34m)\u001b[0m\u001b[0;34m\u001b[0m\u001b[0;34m\u001b[0m\u001b[0m\n\u001b[0m",
      "\u001b[0;31mNameError\u001b[0m: name 'gmm' is not defined"
     ]
    }
   ],
   "source": [
    "gmm.score(testing_features)"
   ]
  },
  {
   "cell_type": "code",
   "execution_count": 141,
   "metadata": {},
   "outputs": [
    {
     "name": "stdout",
     "output_type": "stream",
     "text": [
      "Model  1\n",
      "-6.089693571148383\n",
      "Model  2\n",
      "-6.089693571148383\n",
      "Model  3\n",
      "-6.089693571148383\n",
      "Model  4\n",
      "-6.089693571148383\n",
      "Model  5\n",
      "-6.089693571148383\n",
      "Model  6\n",
      "-6.089693571148383\n",
      "Model  7\n",
      "-6.089693571148383\n",
      "Model  8\n",
      "-6.089693571148383\n",
      "Model  9\n",
      "-6.089693571148383\n",
      "Model  10\n",
      "-6.089693571148383\n",
      "Model  11\n",
      "-6.089693571148383\n",
      "Model  12\n",
      "-6.089693571148383\n",
      "Model  13\n",
      "-6.089693571148383\n",
      "Model  14\n",
      "-6.089693571148383\n",
      "Model  15\n",
      "-6.089693571148383\n",
      "Model  16\n",
      "-6.089693571148383\n",
      "Model  17\n",
      "-6.089693571148383\n",
      "Model  18\n",
      "-6.089693571148383\n",
      "Model  19\n",
      "-6.089693571148383\n",
      "Model  20\n",
      "-6.089693571148383\n",
      "Model  21\n",
      "-6.089693571148383\n",
      "Model  22\n",
      "-6.089693571148383\n",
      "Model  23\n",
      "-6.089693571148383\n",
      "Model  24\n",
      "-6.089693571148383\n",
      "Model  25\n",
      "-6.089693571148383\n",
      "Model  26\n",
      "-6.089693571148383\n",
      "Model  27\n",
      "-6.089693571148383\n",
      "Model  28\n",
      "-6.089693571148383\n",
      "Model  29\n",
      "-6.089693571148383\n",
      "Model  30\n",
      "-6.089693571148383\n",
      "Model  31\n",
      "-6.089693571148383\n",
      "Model  32\n",
      "-6.089693571148383\n",
      "Model  33\n",
      "-6.089693571148383\n",
      "Model  34\n",
      "-6.089693571148383\n",
      "Model  35\n",
      "-6.089693571148383\n",
      "Model  36\n",
      "-6.089693571148383\n",
      "Model  37\n",
      "-6.089693571148383\n",
      "Model  38\n",
      "-6.089693571148383\n",
      "Model  39\n",
      "-6.089693571148383\n",
      "Model  40\n",
      "-6.089693571148383\n",
      "Model  41\n",
      "-6.089693571148383\n",
      "Model  42\n",
      "-6.089693571148383\n",
      "Model  43\n",
      "-6.089693571148383\n",
      "Model  44\n",
      "-6.089693571148383\n",
      "Model  45\n",
      "-6.089693571148383\n",
      "Model  46\n",
      "-6.089693571148383\n",
      "Model  47\n",
      "-6.089693571148383\n",
      "Model  48\n",
      "-6.089693571148383\n",
      "Model  49\n",
      "-6.089693571148383\n",
      "Model  50\n",
      "-6.089693571148383\n",
      "Model  51\n",
      "-6.089693571148383\n",
      "Model  52\n",
      "-6.089693571148383\n",
      "Model  53\n",
      "-6.089693571148383\n",
      "Model  54\n",
      "-6.089693571148383\n",
      "Model  55\n",
      "-6.089693571148383\n",
      "Model  56\n",
      "-6.089693571148383\n",
      "Model  57\n",
      "-6.089693571148383\n",
      "Model  58\n",
      "-6.089693571148383\n",
      "Model  59\n",
      "-6.089693571148383\n",
      "Model  60\n",
      "-6.089693571148383\n",
      "Model  61\n",
      "-6.089693571148383\n",
      "Model  62\n",
      "-6.089693571148383\n",
      "Model  63\n",
      "-6.089693571148383\n",
      "Model  64\n",
      "-6.089693571148383\n",
      "Model  65\n",
      "-6.089693571148383\n",
      "Model  66\n",
      "-6.089693571148383\n",
      "Model  67\n",
      "-6.089693571148383\n",
      "Model  68\n",
      "-6.089693571148383\n",
      "Model  69\n",
      "-6.089693571148383\n",
      "Model  70\n",
      "-6.089693571148383\n",
      "Model  71\n",
      "-6.089693571148383\n",
      "Model  72\n",
      "-6.089693571148383\n",
      "Model  73\n",
      "-6.089693571148383\n",
      "Model  74\n",
      "-6.089693571148383\n",
      "Model  75\n",
      "-6.089693571148383\n",
      "Model  76\n",
      "-6.089693571148383\n",
      "Model  77\n",
      "-6.089693571148383\n",
      "Model  78\n",
      "-6.089693571148383\n",
      "Model  79\n",
      "-6.089693571148383\n",
      "Model  80\n",
      "-6.089693571148383\n",
      "Model  81\n",
      "-6.089693571148383\n",
      "Model  82\n",
      "-6.089693571148383\n",
      "Model  83\n",
      "-6.089693571148383\n",
      "Model  84\n",
      "-6.089693571148383\n",
      "Model  85\n",
      "-6.089693571148383\n",
      "Model  86\n",
      "-6.089693571148383\n",
      "Model  87\n",
      "-6.089693571148383\n",
      "Model  88\n",
      "-6.089693571148383\n",
      "Model  89\n",
      "-6.089693571148383\n",
      "Model  90\n",
      "-6.089693571148383\n",
      "Model  91\n",
      "-6.089693571148383\n",
      "Model  92\n",
      "-6.089693571148383\n",
      "Model  93\n",
      "-6.089693571148383\n",
      "Model  94\n",
      "-6.089693571148383\n",
      "Model  95\n",
      "-6.089693571148383\n",
      "Model  96\n",
      "-6.089693571148383\n",
      "Model  97\n",
      "-6.089693571148383\n",
      "Model  98\n",
      "-6.089693571148383\n",
      "Model  99\n",
      "-6.089693571148383\n",
      "Model  100\n",
      "-6.089693571148383\n"
     ]
    }
   ],
   "source": [
    "allmodels = []\n",
    "for feat in training_features:\n",
    "    gmm = GaussianMixture() #default weights and means\n",
    "    gmm.fit(training_features)\n",
    "    allmodels.append(gmm)\n",
    "\n",
    "i = 1\n",
    "for gmm in allmodels:\n",
    "    print ('Model ',i)\n",
    "    scores = gmm.score(testing_features)\n",
    "    print (scores)\n",
    "    i = i+1"
   ]
  },
  {
   "cell_type": "markdown",
   "metadata": {},
   "source": [
    "Evaluation"
   ]
  },
  {
   "cell_type": "code",
   "execution_count": 142,
   "metadata": {},
   "outputs": [],
   "source": [
    "tp = sum((testing_labels == 1) & (predicted_labels == 1))\n",
    "tn = sum((testing_labels == 0) & (predicted_labels == 0))\n",
    "fp = sum((testing_labels == 0) & (predicted_labels == 1))\n",
    "fn = sum((testing_labels == 1) & (predicted_labels == 0))"
   ]
  },
  {
   "cell_type": "code",
   "execution_count": 143,
   "metadata": {},
   "outputs": [
    {
     "name": "stdout",
     "output_type": "stream",
     "text": [
      "0 49 0 51\n"
     ]
    }
   ],
   "source": [
    "print (tp, tn, fp, fn)"
   ]
  },
  {
   "cell_type": "markdown",
   "metadata": {},
   "source": [
    "Evaluate the model accuracy on the test data."
   ]
  },
  {
   "cell_type": "code",
   "execution_count": 144,
   "metadata": {},
   "outputs": [
    {
     "data": {
      "text/plain": [
       "GaussianMixture(covariance_type='full', init_params='kmeans', max_iter=100,\n",
       "        means_init=None, n_components=1, n_init=1, precisions_init=None,\n",
       "        random_state=None, reg_covar=1e-06, tol=0.001, verbose=0,\n",
       "        verbose_interval=10, warm_start=False, weights_init=None)"
      ]
     },
     "execution_count": 144,
     "metadata": {},
     "output_type": "execute_result"
    }
   ],
   "source": [
    "model.fit(training_features, training_labels)"
   ]
  },
  {
   "cell_type": "code",
   "execution_count": 145,
   "metadata": {},
   "outputs": [
    {
     "data": {
      "text/plain": [
       "-6.089693571148383"
      ]
     },
     "execution_count": 145,
     "metadata": {},
     "output_type": "execute_result"
    }
   ],
   "source": [
    "model.score(testing_features, testing_labels)"
   ]
  },
  {
   "cell_type": "markdown",
   "metadata": {},
   "source": [
    "compute the recall score, and verify it is correct:"
   ]
  },
  {
   "cell_type": "code",
   "execution_count": 146,
   "metadata": {},
   "outputs": [
    {
     "data": {
      "text/plain": [
       "0.0"
      ]
     },
     "execution_count": 146,
     "metadata": {},
     "output_type": "execute_result"
    }
   ],
   "source": [
    "sklearn.metrics.recall_score(testing_labels, predicted_labels)"
   ]
  },
  {
   "cell_type": "code",
   "execution_count": 147,
   "metadata": {},
   "outputs": [
    {
     "name": "stdout",
     "output_type": "stream",
     "text": [
      "0.0\n"
     ]
    }
   ],
   "source": [
    "recall = tp/float(tp+fn)\n",
    "print (recall)"
   ]
  },
  {
   "cell_type": "markdown",
   "metadata": {},
   "source": [
    "Compute the precision score, and verify:"
   ]
  },
  {
   "cell_type": "code",
   "execution_count": 148,
   "metadata": {},
   "outputs": [
    {
     "name": "stderr",
     "output_type": "stream",
     "text": [
      "/home/rutherford/.local/lib/python3.6/site-packages/sklearn/metrics/classification.py:1135: UndefinedMetricWarning: Precision is ill-defined and being set to 0.0 due to no predicted samples.\n",
      "  'precision', 'predicted', average, warn_for)\n"
     ]
    },
    {
     "data": {
      "text/plain": [
       "0.0"
      ]
     },
     "execution_count": 148,
     "metadata": {},
     "output_type": "execute_result"
    }
   ],
   "source": [
    "sklearn.metrics.precision_score(testing_labels, predicted_labels)"
   ]
  },
  {
   "cell_type": "code",
   "execution_count": 149,
   "metadata": {},
   "outputs": [
    {
     "name": "stdout",
     "output_type": "stream",
     "text": [
      "nan\n"
     ]
    },
    {
     "name": "stderr",
     "output_type": "stream",
     "text": [
      "/home/rutherford/.local/lib/python3.6/site-packages/ipykernel_launcher.py:1: RuntimeWarning: invalid value encountered in true_divide\n",
      "  \"\"\"Entry point for launching an IPython kernel.\n"
     ]
    }
   ],
   "source": [
    "precision = tp/float(tp+fp)\n",
    "print (precision)"
   ]
  },
  {
   "cell_type": "markdown",
   "metadata": {},
   "source": [
    "Compute the F-measure, and verify:"
   ]
  },
  {
   "cell_type": "code",
   "execution_count": 150,
   "metadata": {},
   "outputs": [
    {
     "name": "stderr",
     "output_type": "stream",
     "text": [
      "/home/rutherford/.local/lib/python3.6/site-packages/sklearn/metrics/classification.py:1135: UndefinedMetricWarning: F-score is ill-defined and being set to 0.0 due to no predicted samples.\n",
      "  'precision', 'predicted', average, warn_for)\n"
     ]
    },
    {
     "data": {
      "text/plain": [
       "0.0"
      ]
     },
     "execution_count": 150,
     "metadata": {},
     "output_type": "execute_result"
    }
   ],
   "source": [
    "sklearn.metrics.f1_score(testing_labels, predicted_labels)"
   ]
  },
  {
   "cell_type": "code",
   "execution_count": 151,
   "metadata": {},
   "outputs": [
    {
     "name": "stdout",
     "output_type": "stream",
     "text": [
      "nan\n"
     ]
    }
   ],
   "source": [
    "fmeasure = 2*recall*precision/float(recall+precision)\n",
    "print (fmeasure)"
   ]
  },
  {
   "cell_type": "markdown",
   "metadata": {},
   "source": [
    "## Roc Curve"
   ]
  },
  {
   "cell_type": "code",
   "execution_count": 152,
   "metadata": {},
   "outputs": [],
   "source": [
    "import numpy as np\n",
    "from sklearn.metrics import roc_curve\n",
    "from sklearn.metrics import roc_auc_score, auc\n",
    "roc_curve?"
   ]
  },
  {
   "cell_type": "code",
   "execution_count": 153,
   "metadata": {},
   "outputs": [
    {
     "name": "stdout",
     "output_type": "stream",
     "text": [
      "[1. 1. 1. 1. 1. 1. 1. 1. 1. 1. 0. 1. 1. 1. 1. 1. 1. 1. 1. 1. 1. 1. 1. 1.\n",
      " 1. 0. 0. 0. 0. 0. 0. 0. 0. 0. 0. 0. 0. 0. 0. 0. 0. 0. 0. 0. 0. 0. 0. 0.\n",
      " 0. 0. 1. 1. 1. 1. 1. 1. 1. 1. 1. 1. 1. 1. 1. 1. 1. 1. 1. 1. 1. 1. 1. 1.\n",
      " 1. 1. 1. 0. 0. 0. 0. 0. 0. 0. 0. 0. 0. 0. 0. 0. 0. 0. 0. 0. 0. 0. 0. 0.\n",
      " 0. 0. 0. 0.]\n",
      "[0. 1. 1.]\n",
      "[0. 0. 1.]\n",
      "[2. 1. 0.]\n"
     ]
    }
   ],
   "source": [
    "# We can use roc_curve to produce the false and true positive rates for each example, given the labels and normalised scores. \n",
    "# The scores represent the classifier's confidence of each classification.\n",
    "# Since our classifications do not issue a confidence measure, we make them binary.\n",
    "#((testing_labels == 1) & (predicted_labels == 1))\n",
    "scores = (predicted_labels == testing_labels) + 0.0\n",
    "#scores = (model_output == gt_labels) + 0.0\n",
    "print (scores)\n",
    "\n",
    "positive_label = 1 # The label that we call correct.\n",
    "\n",
    "# We indicate to roc_curve that the value 1 in gt_labels is our positive snare label.\n",
    "fpr, tpr, thresholds = roc_curve(testing_labels, scores, pos_label=positive_label)\n",
    "print (fpr)\n",
    "print (tpr)\n",
    "print (thresholds)"
   ]
  },
  {
   "cell_type": "code",
   "execution_count": 154,
   "metadata": {},
   "outputs": [
    {
     "data": {
      "text/plain": [
       "0.0"
      ]
     },
     "execution_count": 154,
     "metadata": {},
     "output_type": "execute_result"
    }
   ],
   "source": [
    "# Alternatively the area under curve can be computed directly from the positive rates.\n",
    "roc_auc = auc(fpr, tpr)\n",
    "roc_auc"
   ]
  },
  {
   "cell_type": "markdown",
   "metadata": {},
   "source": [
    "We can then plot an ROC curve with matplotlib"
   ]
  },
  {
   "cell_type": "code",
   "execution_count": 155,
   "metadata": {
    "scrolled": true
   },
   "outputs": [
    {
     "data": {
      "image/png": "[encoded data removed]",
      "text/plain": [
       "<Figure size 432x288 with 1 Axes>"
      ]
     },
     "metadata": {},
     "output_type": "display_data"
    }
   ],
   "source": [
    "from matplotlib.pyplot import *\n",
    "\n",
    "clf()\n",
    "plot(fpr, tpr, '-x', label='ROC curve (area = %0.2f)' % roc_auc)\n",
    "# Plot the line of no discrimination\n",
    "plot([0, 1], [0, 1], 'k--')\n",
    "xlim([0.0, 1.0])\n",
    "ylim([0.0, 1.0])\n",
    "xlabel('False Positive Rate')\n",
    "ylabel('True Positive Rate')\n",
    "title('Receiver Operating Characteristic')\n",
    "legend(loc=\"lower right\")\n",
    "show()"
   ]
  },
  {
   "cell_type": "markdown",
   "metadata": {},
   "source": [
    "## Bayesian Gausian Mixture Model"
   ]
  },
  {
   "cell_type": "code",
   "execution_count": 156,
   "metadata": {},
   "outputs": [],
   "source": [
    "model = sklearn.mixture.BayesianGaussianMixture()"
   ]
  },
  {
   "cell_type": "code",
   "execution_count": 157,
   "metadata": {},
   "outputs": [
    {
     "data": {
      "text/plain": [
       "BayesianGaussianMixture(covariance_prior=None, covariance_type='full',\n",
       "            degrees_of_freedom_prior=None, init_params='kmeans',\n",
       "            max_iter=100, mean_precision_prior=None, mean_prior=None,\n",
       "            n_components=1, n_init=1, random_state=None, reg_covar=1e-06,\n",
       "            tol=0.001, verbose=0, verbose_interval=10, warm_start=False,\n",
       "            weight_concentration_prior=None,\n",
       "            weight_concentration_prior_type='dirichlet_process')"
      ]
     },
     "execution_count": 157,
     "metadata": {},
     "output_type": "execute_result"
    }
   ],
   "source": [
    "model.fit(training_features, training_labels)"
   ]
  },
  {
   "cell_type": "code",
   "execution_count": 158,
   "metadata": {},
   "outputs": [],
   "source": [
    "acc  = sklearn.model_selection.cross_val_score(model, training_features, training_labels, cv=5)"
   ]
  },
  {
   "cell_type": "code",
   "execution_count": 159,
   "metadata": {},
   "outputs": [
    {
     "name": "stdout",
     "output_type": "stream",
     "text": [
      "[-6.70471286 -6.8432347  -6.2126812  -6.09692119 -7.5846933 ]\n",
      "-6.688448648283929\n"
     ]
    }
   ],
   "source": [
    "print (acc)\n",
    "acc_mean = acc.mean()\n",
    "print(acc_mean)\n",
    "#print ( acc.mean())"
   ]
  },
  {
   "cell_type": "code",
   "execution_count": 160,
   "metadata": {},
   "outputs": [
    {
     "name": "stdout",
     "output_type": "stream",
     "text": [
      "[101.63971919 116.74081677  62.1407976   55.34812177 245.03837571]\n"
     ]
    }
   ],
   "source": [
    "pb = (np.exp(acc_mean)/np.exp(acc)) * 100\n",
    "print(pb)"
   ]
  },
  {
   "cell_type": "code",
   "execution_count": 161,
   "metadata": {},
   "outputs": [],
   "source": [
    "predicted_labels = model.predict(testing_features)"
   ]
  },
  {
   "cell_type": "code",
   "execution_count": 162,
   "metadata": {},
   "outputs": [
    {
     "name": "stdout",
     "output_type": "stream",
     "text": [
      "[0 0 0 0 0 0 0 0 0 0 0 0 0 0 0 0 0 0 0 0 0 0 0 0 0 0 0 0 0 0 0 0 0 0 0 0 0\n",
      " 0 0 0 0 0 0 0 0 0 0 0 0 0 0 0 0 0 0 0 0 0 0 0 0 0 0 0 0 0 0 0 0 0 0 0 0 0\n",
      " 0 0 0 0 0 0 0 0 0 0 0 0 0 0 0 0 0 0 0 0 0 0 0 0 0 0]\n"
     ]
    }
   ],
   "source": [
    "print(predicted_labels)"
   ]
  },
  {
   "cell_type": "markdown",
   "metadata": {},
   "source": [
    "Evaluation"
   ]
  },
  {
   "cell_type": "code",
   "execution_count": 163,
   "metadata": {},
   "outputs": [],
   "source": [
    "tp = sum((testing_labels == 1) & (predicted_labels == 1))\n",
    "tn = sum((testing_labels == 0) & (predicted_labels == 0))\n",
    "fp = sum((testing_labels == 0) & (predicted_labels == 1))\n",
    "fn = sum((testing_labels == 1) & (predicted_labels == 0))"
   ]
  },
  {
   "cell_type": "code",
   "execution_count": 164,
   "metadata": {},
   "outputs": [
    {
     "name": "stdout",
     "output_type": "stream",
     "text": [
      "0 49 0 51\n"
     ]
    }
   ],
   "source": [
    "print (tp, tn, fp, fn)"
   ]
  },
  {
   "cell_type": "markdown",
   "metadata": {},
   "source": [
    "Evaluate the model accuracy on the test data."
   ]
  },
  {
   "cell_type": "code",
   "execution_count": 165,
   "metadata": {},
   "outputs": [
    {
     "data": {
      "text/plain": [
       "BayesianGaussianMixture(covariance_prior=None, covariance_type='full',\n",
       "            degrees_of_freedom_prior=None, init_params='kmeans',\n",
       "            max_iter=100, mean_precision_prior=None, mean_prior=None,\n",
       "            n_components=1, n_init=1, random_state=None, reg_covar=1e-06,\n",
       "            tol=0.001, verbose=0, verbose_interval=10, warm_start=False,\n",
       "            weight_concentration_prior=None,\n",
       "            weight_concentration_prior_type='dirichlet_process')"
      ]
     },
     "execution_count": 165,
     "metadata": {},
     "output_type": "execute_result"
    }
   ],
   "source": [
    "model.fit(training_features, training_labels)"
   ]
  },
  {
   "cell_type": "code",
   "execution_count": 166,
   "metadata": {},
   "outputs": [
    {
     "data": {
      "text/plain": [
       "-6.169008917321813"
      ]
     },
     "execution_count": 166,
     "metadata": {},
     "output_type": "execute_result"
    }
   ],
   "source": [
    "model.score(testing_features, testing_labels)"
   ]
  },
  {
   "cell_type": "markdown",
   "metadata": {},
   "source": [
    "Compute the recall score, and verify it is correct:"
   ]
  },
  {
   "cell_type": "code",
   "execution_count": 167,
   "metadata": {},
   "outputs": [
    {
     "data": {
      "text/plain": [
       "0.0"
      ]
     },
     "execution_count": 167,
     "metadata": {},
     "output_type": "execute_result"
    }
   ],
   "source": [
    "sklearn.metrics.recall_score(testing_labels, predicted_labels)"
   ]
  },
  {
   "cell_type": "markdown",
   "metadata": {},
   "source": [
    "Compute the recall score, and verify it is correct:"
   ]
  },
  {
   "cell_type": "code",
   "execution_count": 168,
   "metadata": {},
   "outputs": [
    {
     "data": {
      "text/plain": [
       "0.0"
      ]
     },
     "execution_count": 168,
     "metadata": {},
     "output_type": "execute_result"
    }
   ],
   "source": [
    "sklearn.metrics.recall_score(testing_labels, predicted_labels)"
   ]
  },
  {
   "cell_type": "code",
   "execution_count": 169,
   "metadata": {},
   "outputs": [
    {
     "name": "stdout",
     "output_type": "stream",
     "text": [
      "0.0\n"
     ]
    }
   ],
   "source": [
    "recall = tp/float(tp+fn)\n",
    "print (recall)"
   ]
  },
  {
   "cell_type": "markdown",
   "metadata": {},
   "source": [
    "Compute the precision score, and verify:"
   ]
  },
  {
   "cell_type": "code",
   "execution_count": 170,
   "metadata": {},
   "outputs": [
    {
     "name": "stderr",
     "output_type": "stream",
     "text": [
      "/home/rutherford/.local/lib/python3.6/site-packages/sklearn/metrics/classification.py:1135: UndefinedMetricWarning: Precision is ill-defined and being set to 0.0 due to no predicted samples.\n",
      "  'precision', 'predicted', average, warn_for)\n"
     ]
    },
    {
     "data": {
      "text/plain": [
       "0.0"
      ]
     },
     "execution_count": 170,
     "metadata": {},
     "output_type": "execute_result"
    }
   ],
   "source": [
    "sklearn.metrics.precision_score(testing_labels, predicted_labels)"
   ]
  },
  {
   "cell_type": "code",
   "execution_count": 171,
   "metadata": {},
   "outputs": [
    {
     "name": "stdout",
     "output_type": "stream",
     "text": [
      "nan\n"
     ]
    },
    {
     "name": "stderr",
     "output_type": "stream",
     "text": [
      "/home/rutherford/.local/lib/python3.6/site-packages/ipykernel_launcher.py:1: RuntimeWarning: invalid value encountered in true_divide\n",
      "  \"\"\"Entry point for launching an IPython kernel.\n"
     ]
    }
   ],
   "source": [
    "precision = tp/float(tp+fp)\n",
    "print (precision)"
   ]
  },
  {
   "cell_type": "markdown",
   "metadata": {},
   "source": [
    "Compute the F-measure, and verify:"
   ]
  },
  {
   "cell_type": "code",
   "execution_count": 172,
   "metadata": {},
   "outputs": [
    {
     "name": "stderr",
     "output_type": "stream",
     "text": [
      "/home/rutherford/.local/lib/python3.6/site-packages/sklearn/metrics/classification.py:1135: UndefinedMetricWarning: F-score is ill-defined and being set to 0.0 due to no predicted samples.\n",
      "  'precision', 'predicted', average, warn_for)\n"
     ]
    },
    {
     "data": {
      "text/plain": [
       "0.0"
      ]
     },
     "execution_count": 172,
     "metadata": {},
     "output_type": "execute_result"
    }
   ],
   "source": [
    "sklearn.metrics.f1_score(testing_labels, predicted_labels)"
   ]
  },
  {
   "cell_type": "code",
   "execution_count": 173,
   "metadata": {},
   "outputs": [
    {
     "name": "stdout",
     "output_type": "stream",
     "text": [
      "nan\n"
     ]
    }
   ],
   "source": [
    "fmeasure = 2*recall*precision/float(recall+precision)\n",
    "print (fmeasure)"
   ]
  },
  {
   "cell_type": "markdown",
   "metadata": {},
   "source": [
    "## Roc Curve"
   ]
  },
  {
   "cell_type": "code",
   "execution_count": 174,
   "metadata": {},
   "outputs": [],
   "source": [
    "import numpy as np\n",
    "from sklearn.metrics import roc_curve\n",
    "from sklearn.metrics import roc_auc_score, auc\n",
    "roc_curve?"
   ]
  },
  {
   "cell_type": "code",
   "execution_count": 175,
   "metadata": {},
   "outputs": [
    {
     "name": "stdout",
     "output_type": "stream",
     "text": [
      "[1. 1. 1. 1. 1. 1. 1. 1. 1. 1. 0. 1. 1. 1. 1. 1. 1. 1. 1. 1. 1. 1. 1. 1.\n",
      " 1. 0. 0. 0. 0. 0. 0. 0. 0. 0. 0. 0. 0. 0. 0. 0. 0. 0. 0. 0. 0. 0. 0. 0.\n",
      " 0. 0. 1. 1. 1. 1. 1. 1. 1. 1. 1. 1. 1. 1. 1. 1. 1. 1. 1. 1. 1. 1. 1. 1.\n",
      " 1. 1. 1. 0. 0. 0. 0. 0. 0. 0. 0. 0. 0. 0. 0. 0. 0. 0. 0. 0. 0. 0. 0. 0.\n",
      " 0. 0. 0. 0.]\n",
      "[0. 1. 1.]\n",
      "[0. 0. 1.]\n",
      "[2. 1. 0.]\n"
     ]
    }
   ],
   "source": [
    "# We can use roc_curve to produce the false and true positive rates for each example, given the labels and normalised scores. \n",
    "# The scores represent the classifier's confidence of each classification.\n",
    "# Since our classifications do not issue a confidence measure, we make them binary.\n",
    "#((testing_labels == 1) & (predicted_labels == 1))\n",
    "scores = (predicted_labels == testing_labels) + 0.0\n",
    "#scores = (model_output == gt_labels) + 0.0\n",
    "print (scores)\n",
    "\n",
    "positive_label = 1 # The label that we call correct.\n",
    "\n",
    "# We indicate to roc_curve that the value 1 in gt_labels is our positive snare label.\n",
    "fpr, tpr, thresholds = roc_curve(testing_labels, scores, pos_label=positive_label)\n",
    "print (fpr)\n",
    "print (tpr)\n",
    "print (thresholds)"
   ]
  },
  {
   "cell_type": "code",
   "execution_count": 176,
   "metadata": {},
   "outputs": [
    {
     "data": {
      "text/plain": [
       "0.0"
      ]
     },
     "execution_count": 176,
     "metadata": {},
     "output_type": "execute_result"
    }
   ],
   "source": [
    "# Alternatively the area under curve can be computed directly from the positive rates.\n",
    "roc_auc = auc(fpr, tpr)\n",
    "roc_auc"
   ]
  },
  {
   "cell_type": "markdown",
   "metadata": {},
   "source": [
    "We can then plot an ROC curve with matplotlib"
   ]
  },
  {
   "cell_type": "code",
   "execution_count": 177,
   "metadata": {},
   "outputs": [
    {
     "data": {
      "image/png": "[encoded data removed]",
      "text/plain": [
       "<Figure size 432x288 with 1 Axes>"
      ]
     },
     "metadata": {},
     "output_type": "display_data"
    }
   ],
   "source": [
    "from matplotlib.pyplot import *\n",
    "\n",
    "clf()\n",
    "plot(fpr, tpr, '-x', label='ROC curve (area = %0.2f)' % roc_auc)\n",
    "# Plot the line of no discrimination\n",
    "plot([0, 1], [0, 1], 'k--')\n",
    "xlim([0.0, 1.0])\n",
    "ylim([0.0, 1.0])\n",
    "xlabel('False Positive Rate')\n",
    "ylabel('True Positive Rate')\n",
    "title('Receiver Operating Characteristic')\n",
    "legend(loc=\"lower right\")\n",
    "show()"
   ]
  }
 ],
 "metadata": {
  "kernelspec": {
   "display_name": "Python 3",
   "language": "python",
   "name": "python3"
  },
  "language_info": {
   "codemirror_mode": {
    "name": "ipython",
    "version": 3
   },
   "file_extension": ".py",
   "mimetype": "text/x-python",
   "name": "python",
   "nbconvert_exporter": "python",
   "pygments_lexer": "ipython3",
   "version": "3.6.7"
  }
 },
 "nbformat": 4,
 "nbformat_minor": 1
}
